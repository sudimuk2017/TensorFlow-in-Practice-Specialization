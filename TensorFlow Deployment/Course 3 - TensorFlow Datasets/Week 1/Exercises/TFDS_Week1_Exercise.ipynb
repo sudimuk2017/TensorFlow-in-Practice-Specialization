{
  "cells": [
  {
      "cell_type": "code",
      "metadata": {
        "id": "zX4Kg8DUTKWO",
        "colab_type": "code",
        "colab": {}
      },
      "source": [
        "#@title Licensed under the Apache License, Version 2.0 (the \"License\");\n",
        "# you may not use this file except in compliance with the License.\n",
        "# You may obtain a copy of the License at\n",
        "#\n",
        "# https://www.apache.org/licenses/LICENSE-2.0\n",
        "#\n",
        "# Unless required by applicable law or agreed to in writing, software\n",
        "# distributed under the License is distributed on an \"AS IS\" BASIS,\n",
        "# WITHOUT WARRANTIES OR CONDITIONS OF ANY KIND, either express or implied.\n",
        "# See the License for the specific language governing permissions and\n",
        "# limitations under the License."
      ],
      "execution_count": 0,
      "outputs": []
    },
    {
      "cell_type": "markdown",
      "metadata": {},
      "source": [
        "# TFDS and Rock, Paper, Scissors"
      ]
    },
    {
      "cell_type": "markdown",
      "metadata": {},
      "source": [
        "<table class=\"tfo-notebook-buttons\" align=\"left\">\n",
        "  <td>\n",
        "    <a target=\"_blank\" href=\"https://colab.research.google.com/github/lmoroney/dlaicourse/blob/master/TensorFlow%20Deployment/Course%203%20-%20TensorFlow%20Datasets/Week%201/Exercises/TFDS_Week1_Exercise.ipynb\">\n",
        "    <img src=\"https://www.tensorflow.org/images/colab_logo_32px.png\" />\n",
        "    Run in Google Colab</a>\n",
        "  </td>\n",
        "  <td>\n",
        "    <a target=\"_blank\" href=\"https://github.com/lmoroney/dlaicourse/blob/master/TensorFlow%20Deployment/Course%203%20-%20TensorFlow%20Datasets/Week%201/Exercises/TFDS_Week1_Exercise.ipynb\">\n",
        "    <img src=\"https://www.tensorflow.org/images/GitHub-Mark-32px.png\" />\n",
        "    View source on GitHub</a>\n",
        "  </td>\n",
        "</table>"
      ]
    },
    {
      "cell_type": "markdown",
      "metadata": {},
      "source": [
        "In this week's exercise you will be working with TFDS and the rock-paper-scissors dataset. You'll do a few tasks such as exploring the info of the dataset in order to figure out the name of the splits. You'll also write code to see if the dataset supports the new S3 API before creating your own versions of the dataset."
      ]
    },
    {
      "cell_type": "markdown",
      "metadata": {},
      "source": [
        "## Setup"
      ]
    },
    {
      "cell_type": "code",
      "execution_count": null,
      "metadata": {},
      "outputs": [],
      "source": [
        "try:\n",
        "    %tensorflow_version 2.x\n",
        "except:\n",
        "    pass"
      ]
    },
    {
      "cell_type": "code",
      "execution_count": null,
      "metadata": {
        "colab": {},
        "colab_type": "code",
        "id": "TTBSvHcSLBzc"
      },
      "outputs": [],
      "source": [
        "# Use all imports\n",
        "import tensorflow as tf\n",
        "import tensorflow_datasets as tfds\n",
        "\n",
        "print(\"\\u2022 Using TensorFlow Version:\", tf.__version__)"
      ]
    },
    {
      "cell_type": "markdown",
      "metadata": {},
      "source": [
        "## Extract the Rock, Paper, Scissors Dataset\n",
        "\n",
        "In the cell below, you will extract the `rock_paper_scissors` dataset and then print its info. Take note of the splits, what they're called, and their size."
      ]
    },
    {
      "cell_type": "code",
      "execution_count": null,
      "metadata": {
        "colab": {},
        "colab_type": "code",
        "id": "KGsVrzy84WI2"
      },
      "outputs": [],
      "source": [
        "# EXERCISE: Use tfds.load to extract the rock_paper_scissors dataset.\n",
        "\n",
        "data, info = # YOUR CODE HERE\n",
        "print(info)"
      ]
    },
    {
      "cell_type": "code",
      "execution_count": null,
      "metadata": {
        "colab": {},
        "colab_type": "code",
        "id": "epPGTUqE5Z2E"
      },
      "outputs": [],
      "source": [
        "# EXERCISE: In the space below, write code that iterates through the splits\n",
        "# without hardcoding any keys. The code should extract 'test' and 'train' as\n",
        "# the keys, and then print out the number of items in the dataset for each key. \n",
        "# HINT: num_examples property is very useful here.\n",
        "\n",
        "for # YOUR CODE HERE:\n",
        "  print(# YOUR CODE HERE)\n",
        "\n",
        "# EXPECTED OUTPUT\n",
        "# test:372\n",
        "# train:2520"
      ]
    },
    {
      "cell_type": "markdown",
      "metadata": {},
      "source": [
        "## Use the New S3 API\n",
        "\n",
        "Before using the new S3 API, you must first find out whether the `rock_paper_scissors` dataset implements the new S3 API. In the cell below you should use version `3.*.*` of the `rock_paper_scissors` dataset."
      ]
    },
    {
      "cell_type": "code",
      "execution_count": null,
      "metadata": {
        "colab": {},
        "colab_type": "code",
        "id": "Ms5ld5Ov6_OP"
      },
      "outputs": [],
      "source": [
        "# EXERCISE: In the space below, use the tfds.builder to fetch the\n",
        "# rock_paper_scissors dataset and check to see if it supports the\n",
        "# new S3 API. \n",
        "# HINT: The builder should 'implement' something\n",
        "\n",
        "rps_builder = # YOUR CODE HERE (Include the following arguments in your code: \"rock_paper_scissors:3.*.*\")\n",
        "\n",
        "print(# YOUR CODE HERE)\n",
        "\n",
        "# Expected output:\n",
        "# True"
      ]
    },
    {
      "cell_type": "markdown",
      "metadata": {},
      "source": [
        "## Create New Datasets with the S3 API\n",
        "\n",
        "Sometimes datasets are too big for prototyping. In the cell below, you will create a smaller dataset, where instead of using all of the training data and all of the test data, you instead have a `small_train` and `small_test` each of which are comprised of the first 10% of the records in their respective datasets."
      ]
    },
    {
      "cell_type": "code",
      "execution_count": null,
      "metadata": {
        "colab": {},
        "colab_type": "code",
        "id": "QMGkJW6j7Ldl"
      },
      "outputs": [],
      "source": [
        "# EXERCISE: In the space below, create two small datasets, `small_train`\n",
        "# and `small_test`, each of which are comprised of the first 10% of the\n",
        "# records in their respective datasets.\n",
        "\n",
        "small_train = # YOUR CODE HERE (Include the following arguments in your code: \"rock_paper_scissors:3.*.*\")\n",
        "small_test = # YOUR CODE HERE (Include the following arguments in your code: \"rock_paper_scissors:3.*.*\")\n",
        "\n",
        "# No expected output yet, that's in the next cell"
      ]
    },
    {
      "cell_type": "code",
      "execution_count": null,
      "metadata": {
        "colab": {},
        "colab_type": "code",
        "id": "SOm99-zO_nAe"
      },
      "outputs": [],
      "source": [
        "# EXERCISE: Print out the size (length) of the small versions of the datasets.\n",
        "\n",
        "print(# YOUR CODE HERE)\n",
        "print(# YOUR CODE HERE)\n",
        "\n",
        "# Expected output\n",
        "# 252\n",
        "# 37"
      ]
    },
    {
      "cell_type": "markdown",
      "metadata": {},
      "source": [
        "The original dataset doesn't have a validation set, just training and testing sets. In the cell below, you will use TFDS to create new datasets according to these rules:\n",
        "\n",
        "* `new_train`: The new training set should be the first 90% of the original training set.\n",
        "\n",
        "\n",
        "* `new_test`: The new test set should be the first 90% of the original test set.\n",
        "\n",
        "\n",
        "* `validation`: The new validation set should be the last 10% of the original training set + the last 10% of the original test set."
      ]
    },
    {
      "cell_type": "code",
      "execution_count": null,
      "metadata": {
        "colab": {},
        "colab_type": "code",
        "id": "jL7KXYi17s_1"
      },
      "outputs": [],
      "source": [
        "# EXERCISE: In the space below, create 3 new datasets according to\n",
        "# the rules indicated above.\n",
        "\n",
        "new_train = # YOUR CODE HERE (Include the following arguments in your code: \"rock_paper_scissors:3.*.*\")\n",
        "print(# YOUR CODE HERE)\n",
        "\n",
        "new_test = # YOUR CODE HERE (Include the following arguments in your code: \"rock_paper_scissors:3.*.*\")\n",
        "print(# YOUR CODE HERE)\n",
        "\n",
        "validation = # YOUR CODE HERE (Include the following arguments in your code: \"rock_paper_scissors:3.*.*\")\n",
        "print(# YOUR CODE HERE)\n",
        "\n",
        "# Expected output\n",
        "# 2268\n",
        "# 335\n",
        "# 289"
      ]
    }
  ],
  "metadata": {
    "colab": {
      "collapsed_sections": [],
      "name": "TFDS_Week1_Exercise.ipynb",
      "provenance": [],
      "toc_visible": true
    },
    "kernelspec": {
      "display_name": "Python 3",
      "language": "python",
      "name": "python3"
    },
    "language_info": {
      "codemirror_mode": {
        "name": "ipython",
        "version": 3
      },
      "file_extension": ".py",
      "mimetype": "text/x-python",
      "name": "python",
      "nbconvert_exporter": "python",
      "pygments_lexer": "ipython3",
      "version": "3.7.4"
    }
  },
  "nbformat": 4,
  "nbformat_minor": 1
}
