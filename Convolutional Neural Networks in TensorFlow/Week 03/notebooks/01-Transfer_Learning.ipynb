{
  "nbformat": 4,
  "nbformat_minor": 0,
  "metadata": {
    "colab": {
      "name": "Transfer Learning.ipynb",
      "version": "0.3.2",
      "provenance": [],
      "collapsed_sections": []
    },
    "kernelspec": {
      "display_name": "Python 2",
      "name": "python2"
    },
    "accelerator": "GPU"
  },
  "cells": [
    {
      "metadata": {
        "colab_type": "code",
        "id": "1xJZ5glPPCRz",
        "outputId": "210000b7-4c93-4f81-ce79-b04fe35b1767",
        "colab": {
          "base_uri": "https://localhost:8080/",
          "height": 204
        }
      },
      "cell_type": "code",
      "source": [
        "import os\n",
        "\n",
        "from tensorflow.keras import layers\n",
        "from tensorflow.keras import Model\n",
        "!wget --no-check-certificate \\\n",
        "    https://storage.googleapis.com/mledu-datasets/inception_v3_weights_tf_dim_ordering_tf_kernels_notop.h5 \\\n",
        "    -O /tmp/inception_v3_weights_tf_dim_ordering_tf_kernels_notop.h5"
      ],
      "execution_count": 1,
      "outputs": [
        {
          "output_type": "stream",
          "text": [
            "--2019-04-29 18:32:14--  https://storage.googleapis.com/mledu-datasets/inception_v3_weights_tf_dim_ordering_tf_kernels_notop.h5\n",
            "Resolving storage.googleapis.com (storage.googleapis.com)... 209.85.147.128, 2607:f8b0:4001:c15::80\n",
            "Connecting to storage.googleapis.com (storage.googleapis.com)|209.85.147.128|:443... connected.\n",
            "HTTP request sent, awaiting response... 200 OK\n",
            "Length: 87910968 (84M) [application/x-hdf]\n",
            "Saving to: ‘/tmp/inception_v3_weights_tf_dim_ordering_tf_kernels_notop.h5’\n",
            "\n",
            "/tmp/inception_v3_w 100%[===================>]  83.84M  50.2MB/s    in 1.7s    \n",
            "\n",
            "2019-04-29 18:32:16 (50.2 MB/s) - ‘/tmp/inception_v3_weights_tf_dim_ordering_tf_kernels_notop.h5’ saved [87910968/87910968]\n",
            "\n"
          ],
          "name": "stdout"
        }
      ]
    },
    {
      "metadata": {
        "id": "aFsqcVJgWu7D",
        "colab_type": "code",
        "colab": {
          "base_uri": "https://localhost:8080/",
          "height": 105
        },
        "outputId": "e38b567f-a101-454e-8ce0-99e30356dd75"
      },
      "cell_type": "code",
      "source": [
        "from tensorflow.keras.applications.inception_v3 import InceptionV3\n",
        "\n",
        "local_weights_file = '/tmp/inception_v3_weights_tf_dim_ordering_tf_kernels_notop.h5'\n",
        "\n",
        "pre_trained_model = InceptionV3(input_shape = (150, 150, 3), \n",
        "                                include_top = False, \n",
        "                                weights = None)\n",
        "\n",
        "pre_trained_model.load_weights(local_weights_file)\n",
        "#we don't want to train the inception network\n",
        "for layer in pre_trained_model.layers:\n",
        "    layer.trainable = False\n",
        "\n",
        "# pre_trained_model.summary()\n",
        "\n",
        "last_layer = pre_trained_model.get_layer('mixed7')\n",
        "print('last layer output shape: ', last_layer.output_shape)\n",
        "last_output = last_layer.output"
      ],
      "execution_count": 2,
      "outputs": [
        {
          "output_type": "stream",
          "text": [
            "WARNING:tensorflow:From /usr/local/lib/python2.7/dist-packages/tensorflow/python/ops/resource_variable_ops.py:435: colocate_with (from tensorflow.python.framework.ops) is deprecated and will be removed in a future version.\n",
            "Instructions for updating:\n",
            "Colocations handled automatically by placer.\n",
            "('last layer output shape: ', (None, 7, 7, 768))\n"
          ],
          "name": "stdout"
        }
      ]
    },
    {
      "metadata": {
        "colab_type": "code",
        "id": "BMXb913pbvFg",
        "colab": {
          "base_uri": "https://localhost:8080/",
          "height": 88
        },
        "outputId": "d4861728-07ae-4f3e-942c-1215e36a66c9"
      },
      "cell_type": "code",
      "source": [
        "from tensorflow.keras.optimizers import RMSprop\n",
        "\n",
        "# Flatten the output layer to 1 dimension\n",
        "x = layers.Flatten()(last_output)\n",
        "# Add a fully connected layer with 1,024 hidden units and ReLU activation\n",
        "x = layers.Dense(1024, activation='relu')(x)\n",
        "# Add a dropout rate of 0.2\n",
        "x = layers.Dropout(0.2)(x)                  \n",
        "# Add a final sigmoid layer for classification\n",
        "x = layers.Dense  (1, activation='sigmoid')(x)           \n",
        "\n",
        "model = Model( pre_trained_model.input, x) \n",
        "\n",
        "model.compile(optimizer = RMSprop(lr=0.0001), \n",
        "              loss = 'binary_crossentropy', \n",
        "              metrics = ['acc'])\n"
      ],
      "execution_count": 3,
      "outputs": [
        {
          "output_type": "stream",
          "text": [
            "WARNING:tensorflow:From /usr/local/lib/python2.7/dist-packages/tensorflow/python/keras/layers/core.py:143: calling dropout (from tensorflow.python.ops.nn_ops) with keep_prob is deprecated and will be removed in a future version.\n",
            "Instructions for updating:\n",
            "Please use `rate` instead of `keep_prob`. Rate should be set to `rate = 1 - keep_prob`.\n"
          ],
          "name": "stdout"
        }
      ]
    },
    {
      "metadata": {
        "colab_type": "code",
        "id": "O4s8HckqGlnb",
        "outputId": "2d7a3a11-2491-4bb0-d574-4d90538675eb",
        "colab": {
          "base_uri": "https://localhost:8080/",
          "height": 238
        }
      },
      "cell_type": "code",
      "source": [
        "!wget --no-check-certificate \\\n",
        "        https://storage.googleapis.com/mledu-datasets/cats_and_dogs_filtered.zip \\\n",
        "       -O /tmp/cats_and_dogs_filtered.zip\n",
        "\n",
        "from tensorflow.keras.preprocessing.image import ImageDataGenerator\n",
        "\n",
        "import os\n",
        "import zipfile\n",
        "\n",
        "local_zip = '//tmp/cats_and_dogs_filtered.zip'\n",
        "\n",
        "zip_ref = zipfile.ZipFile(local_zip, 'r')\n",
        "\n",
        "zip_ref.extractall('/tmp')\n",
        "zip_ref.close()\n",
        "\n",
        "# Define our example directories and files\n",
        "base_dir = '/tmp/cats_and_dogs_filtered'\n",
        "\n",
        "train_dir = os.path.join( base_dir, 'train')\n",
        "validation_dir = os.path.join( base_dir, 'validation')\n",
        "\n",
        "\n",
        "train_cats_dir = os.path.join(train_dir, 'cats') # Directory with our training cat pictures\n",
        "train_dogs_dir = os.path.join(train_dir, 'dogs') # Directory with our training dog pictures\n",
        "validation_cats_dir = os.path.join(validation_dir, 'cats') # Directory with our validation cat pictures\n",
        "validation_dogs_dir = os.path.join(validation_dir, 'dogs')# Directory with our validation dog pictures\n",
        "\n",
        "train_cat_fnames = os.listdir(train_cats_dir)\n",
        "train_dog_fnames = os.listdir(train_dogs_dir)\n",
        "\n",
        "# Add our data-augmentation parameters to ImageDataGenerator\n",
        "train_datagen = ImageDataGenerator(rescale = 1./255.,\n",
        "                                   rotation_range = 40,\n",
        "                                   width_shift_range = 0.2,\n",
        "                                   height_shift_range = 0.2,\n",
        "                                   shear_range = 0.2,\n",
        "                                   zoom_range = 0.2,\n",
        "                                   horizontal_flip = True)\n",
        "\n",
        "# Note that the validation data should not be augmented!\n",
        "test_datagen = ImageDataGenerator( rescale = 1.0/255. )\n",
        "\n",
        "# Flow training images in batches of 20 using train_datagen generator\n",
        "train_generator = train_datagen.flow_from_directory(train_dir,\n",
        "                                                    batch_size = 20,\n",
        "                                                    class_mode = 'binary', \n",
        "                                                    target_size = (150, 150))     \n",
        "\n",
        "# Flow validation images in batches of 20 using test_datagen generator\n",
        "validation_generator =  test_datagen.flow_from_directory( validation_dir,\n",
        "                                                          batch_size  = 20,\n",
        "                                                          class_mode  = 'binary', \n",
        "                                                          target_size = (150, 150))"
      ],
      "execution_count": 4,
      "outputs": [
        {
          "output_type": "stream",
          "text": [
            "--2019-04-29 18:32:33--  https://storage.googleapis.com/mledu-datasets/cats_and_dogs_filtered.zip\n",
            "Resolving storage.googleapis.com (storage.googleapis.com)... 108.177.111.128, 2607:f8b0:4001:c03::80\n",
            "Connecting to storage.googleapis.com (storage.googleapis.com)|108.177.111.128|:443... connected.\n",
            "HTTP request sent, awaiting response... 200 OK\n",
            "Length: 68606236 (65M) [application/zip]\n",
            "Saving to: ‘/tmp/cats_and_dogs_filtered.zip’\n",
            "\n",
            "/tmp/cats_and_dogs_ 100%[===================>]  65.43M   115MB/s    in 0.6s    \n",
            "\n",
            "2019-04-29 18:32:33 (115 MB/s) - ‘/tmp/cats_and_dogs_filtered.zip’ saved [68606236/68606236]\n",
            "\n",
            "Found 2000 images belonging to 2 classes.\n",
            "Found 1000 images belonging to 2 classes.\n"
          ],
          "name": "stdout"
        }
      ]
    },
    {
      "metadata": {
        "colab_type": "code",
        "id": "Blhq2MAUeyGA",
        "outputId": "0cd1c1a8-00ed-4706-d290-83dae4dfe609",
        "colab": {
          "base_uri": "https://localhost:8080/",
          "height": 1108
        }
      },
      "cell_type": "code",
      "source": [
        "history = model.fit_generator(\n",
        "            train_generator,\n",
        "            validation_data = validation_generator,\n",
        "            steps_per_epoch = 100,\n",
        "            epochs = 20,\n",
        "            validation_steps = 50,\n",
        "            verbose = 2)"
      ],
      "execution_count": 5,
      "outputs": [
        {
          "output_type": "stream",
          "text": [
            "WARNING:tensorflow:From /usr/local/lib/python2.7/dist-packages/tensorflow/python/ops/math_ops.py:3066: to_int32 (from tensorflow.python.ops.math_ops) is deprecated and will be removed in a future version.\n",
            "Instructions for updating:\n",
            "Use tf.cast instead.\n",
            "Epoch 1/20\n",
            "50/50 [==============================] - 7s 133ms/step - loss: 0.2110 - acc: 0.9250\n",
            " - 30s - loss: 0.5152 - acc: 0.7585 - val_loss: 0.2110 - val_acc: 0.9250\n",
            "Epoch 2/20\n",
            "50/50 [==============================] - 7s 130ms/step - loss: 0.3276 - acc: 0.9260\n",
            " - 27s - loss: 0.3750 - acc: 0.8270 - val_loss: 0.3276 - val_acc: 0.9260\n",
            "Epoch 3/20\n",
            "50/50 [==============================] - 7s 141ms/step - loss: 0.1947 - acc: 0.9560\n",
            " - 33s - loss: 0.3271 - acc: 0.8480 - val_loss: 0.1947 - val_acc: 0.9560\n",
            "Epoch 4/20\n",
            "50/50 [==============================] - 6s 130ms/step - loss: 0.3127 - acc: 0.9490\n",
            " - 28s - loss: 0.2955 - acc: 0.8725 - val_loss: 0.3127 - val_acc: 0.9490\n",
            "Epoch 5/20\n",
            "50/50 [==============================] - 7s 131ms/step - loss: 0.2976 - acc: 0.9440\n",
            " - 27s - loss: 0.3065 - acc: 0.8690 - val_loss: 0.2976 - val_acc: 0.9440\n",
            "Epoch 6/20\n",
            "50/50 [==============================] - 6s 130ms/step - loss: 0.4182 - acc: 0.9330\n",
            " - 28s - loss: 0.3275 - acc: 0.8635 - val_loss: 0.4182 - val_acc: 0.9330\n",
            "Epoch 7/20\n",
            "50/50 [==============================] - 6s 130ms/step - loss: 0.3195 - acc: 0.9490\n",
            " - 27s - loss: 0.3085 - acc: 0.8765 - val_loss: 0.3195 - val_acc: 0.9490\n",
            "Epoch 8/20\n",
            "50/50 [==============================] - 7s 132ms/step - loss: 0.3171 - acc: 0.9510\n",
            " - 27s - loss: 0.2942 - acc: 0.8835 - val_loss: 0.3171 - val_acc: 0.9510\n",
            "Epoch 9/20\n",
            "50/50 [==============================] - 8s 157ms/step - loss: 0.2850 - acc: 0.9530\n",
            " - 30s - loss: 0.2889 - acc: 0.8825 - val_loss: 0.2850 - val_acc: 0.9530\n",
            "Epoch 10/20\n",
            "50/50 [==============================] - 6s 130ms/step - loss: 0.4603 - acc: 0.9390\n",
            " - 27s - loss: 0.2771 - acc: 0.8880 - val_loss: 0.4603 - val_acc: 0.9390\n",
            "Epoch 11/20\n",
            "50/50 [==============================] - 8s 151ms/step - loss: 0.3294 - acc: 0.9570\n",
            " - 28s - loss: 0.2932 - acc: 0.8810 - val_loss: 0.3294 - val_acc: 0.9570\n",
            "Epoch 12/20\n",
            "50/50 [==============================] - 7s 134ms/step - loss: 0.3594 - acc: 0.9500\n",
            " - 28s - loss: 0.2649 - acc: 0.8860 - val_loss: 0.3594 - val_acc: 0.9500\n",
            "Epoch 13/20\n",
            "50/50 [==============================] - 7s 132ms/step - loss: 0.3250 - acc: 0.9570\n",
            " - 27s - loss: 0.2521 - acc: 0.8905 - val_loss: 0.3250 - val_acc: 0.9570\n",
            "Epoch 14/20\n",
            "50/50 [==============================] - 8s 167ms/step - loss: 0.4163 - acc: 0.9490\n",
            " - 33s - loss: 0.2874 - acc: 0.8920 - val_loss: 0.4163 - val_acc: 0.9490\n",
            "Epoch 15/20\n",
            "50/50 [==============================] - 7s 131ms/step - loss: 0.3216 - acc: 0.9570\n",
            " - 27s - loss: 0.2471 - acc: 0.8920 - val_loss: 0.3216 - val_acc: 0.9570\n",
            "Epoch 16/20\n",
            "50/50 [==============================] - 6s 130ms/step - loss: 0.3428 - acc: 0.9570\n",
            " - 27s - loss: 0.2725 - acc: 0.8910 - val_loss: 0.3428 - val_acc: 0.9570\n",
            "Epoch 17/20\n",
            "50/50 [==============================] - 7s 138ms/step - loss: 0.3593 - acc: 0.9550\n",
            " - 29s - loss: 0.2457 - acc: 0.9005 - val_loss: 0.3593 - val_acc: 0.9550\n",
            "Epoch 18/20\n",
            "50/50 [==============================] - 7s 131ms/step - loss: 0.3050 - acc: 0.9630\n",
            " - 27s - loss: 0.2430 - acc: 0.9020 - val_loss: 0.3050 - val_acc: 0.9630\n",
            "Epoch 19/20\n",
            "50/50 [==============================] - 6s 129ms/step - loss: 0.3529 - acc: 0.9570\n",
            " - 27s - loss: 0.2336 - acc: 0.9045 - val_loss: 0.3529 - val_acc: 0.9570\n",
            "Epoch 20/20\n",
            "50/50 [==============================] - 7s 146ms/step - loss: 0.3733 - acc: 0.9550\n",
            " - 29s - loss: 0.2410 - acc: 0.9055 - val_loss: 0.3733 - val_acc: 0.9550\n"
          ],
          "name": "stdout"
        }
      ]
    },
    {
      "metadata": {
        "id": "C2Fp6Se9rKuL",
        "colab_type": "code",
        "outputId": "0ab7031e-3e1e-4b74-b16d-b0c8e8a96d85",
        "colab": {
          "base_uri": "https://localhost:8080/",
          "height": 298
        }
      },
      "cell_type": "code",
      "source": [
        "import matplotlib.pyplot as plt\n",
        "acc = history.history['acc']\n",
        "val_acc = history.history['val_acc']\n",
        "loss = history.history['loss']\n",
        "val_loss = history.history['val_loss']\n",
        "\n",
        "epochs = range(len(acc))\n",
        "\n",
        "plt.plot(epochs, acc, 'r', label='Training accuracy')\n",
        "plt.plot(epochs, val_acc, 'b', label='Validation accuracy')\n",
        "plt.title('Training and validation accuracy')\n",
        "plt.legend(loc=0)\n",
        "plt.figure()\n",
        "\n",
        "\n",
        "plt.show()"
      ],
      "execution_count": 6,
      "outputs": [
        {
          "output_type": "display_data",
          "data": {
            "image/png": "[encoded data removed]",
            "text/plain": [
              "<Figure size 432x288 with 1 Axes>"
            ]
          },
          "metadata": {
            "tags": []
          }
        },
        {
          "output_type": "display_data",
          "data": {
            "text/plain": [
              "<Figure size 432x288 with 0 Axes>"
            ]
          },
          "metadata": {
            "tags": []
          }
        }
      ]
    }
  ]
}