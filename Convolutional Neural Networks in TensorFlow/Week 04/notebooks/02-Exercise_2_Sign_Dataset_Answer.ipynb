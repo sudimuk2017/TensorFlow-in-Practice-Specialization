{
  "nbformat": 4,
  "nbformat_minor": 0,
  "metadata": {
    "colab": {
      "name": "Exercise 8 - Question.ipynb",
      "version": "0.3.2",
      "provenance": []
    },
    "kernelspec": {
      "name": "python3",
      "display_name": "Python 3"
    },
    "accelerator": "GPU"
  },
  "cells": [
    {
      "metadata": {
        "id": "wYtuKeK0dImp",
        "colab_type": "code",
        "colab": {}
      },
      "cell_type": "code",
      "source": [
        "import csv\n",
        "import numpy as np\n",
        "import tensorflow as tf\n",
        "from tensorflow.keras.preprocessing.image import ImageDataGenerator\n",
        "from google.colab import files"
      ],
      "execution_count": 0,
      "outputs": []
    },
    {
      "metadata": {
        "id": "EmMyh9_mkDHF",
        "colab_type": "text"
      },
      "cell_type": "markdown",
      "source": [
        "The data for this exercise is available at: https://www.kaggle.com/datamunge/sign-language-mnist/home\n",
        "\n",
        "Sign up and download to find 2 CSV files: sign_mnist_test.csv and sign_mnist_train.csv -- You will upload both of them using this button before you can continue.\n"
      ]
    },
    {
      "metadata": {
        "id": "IcLOZlnnc_N7",
        "colab_type": "code",
        "colab": {
          "resources": {
            "http://localhost:8080/nbextensions/google.colab/files.js": {
              "data": "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",
              "ok": true,
              "headers": [
                [
                  "content-type",
                  "application/javascript"
                ]
              ],
              "status": 200,
              "status_text": ""
            }
          },
          "base_uri": "https://localhost:8080/",
          "height": 40
        },
        "outputId": "da7d7dda-442c-40d9-ce50-b1cfb4f8baa5"
      },
      "cell_type": "code",
      "source": [
        "uploaded=files.upload()"
      ],
      "execution_count": 2,
      "outputs": [
        {
          "output_type": "display_data",
          "data": {
            "text/html": [
              "\n",
              "     <input type=\"file\" id=\"files-811c7fe0-d622-4e32-a73f-e2ce954dee5f\" name=\"files[]\" multiple disabled />\n",
              "     <output id=\"result-811c7fe0-d622-4e32-a73f-e2ce954dee5f\">\n",
              "      Upload widget is only available when the cell has been executed in the\n",
              "      current browser session. Please rerun this cell to enable.\n",
              "      </output>\n",
              "      <script src=\"/nbextensions/google.colab/files.js\"></script> "
            ],
            "text/plain": [
              "<IPython.core.display.HTML object>"
            ]
          },
          "metadata": {
            "tags": []
          }
        }
      ]
    },
    {
      "metadata": {
        "id": "4kxw-_rmcnVu",
        "colab_type": "code",
        "colab": {
          "base_uri": "https://localhost:8080/",
          "height": 136
        },
        "outputId": "5511f5c9-f3bf-48da-de5d-6e788bfdaa32"
      },
      "cell_type": "code",
      "source": [
        "from tqdm import tqdm\n",
        "\n",
        "\n",
        "def get_data(filename):\n",
        "    # You will need to write code that will read the file passed\n",
        "    # into this function. The first line contains the column headers\n",
        "    # so you should ignore it\n",
        "    # Each successive line contians 785 comma separated values between 0 and 255\n",
        "    # The first value is the label\n",
        "    # The rest are the pixel values for that picture\n",
        "    # The function will return 2 np.array types. One with all the labels\n",
        "    # One with all the images\n",
        "    #\n",
        "    # Tips: \n",
        "    # If you read a full line (as 'row') then row[0] has the label\n",
        "    # and row[1:785] has the 784 pixel values\n",
        "    # Take a look at np.array_split to turn the 784 pixels into 28x28\n",
        "    # You are reading in strings, but need the values to be floats\n",
        "    # Check out np.array().astype for a conversion\n",
        "    with open(filename) as training_file:\n",
        "        # Your code starts here\n",
        "        all_lines = training_file.readlines()[1:] #remove header\n",
        "        length = len(all_lines)\n",
        "        labels = np.zeros(length)\n",
        "        images = np.zeros((length, 28, 28))\n",
        "        for idx, line in tqdm(enumerate(all_lines), desc=filename, total=length):\n",
        "            line = line.strip().split(',')\n",
        "            if not line:\n",
        "                continue\n",
        "            #add the label\n",
        "            labels[idx] = int(line[0])\n",
        "            #add the image\n",
        "            image = np.asarray(line[1:], dtype=np.float32)\n",
        "            image = np.array_split(image, 28)\n",
        "            images[idx, :, :] = image\n",
        "        # Your code ends here\n",
        "    return images, labels\n",
        "\n",
        "\n",
        "training_images, training_labels = get_data('sign_mnist_train.csv')\n",
        "testing_images, testing_labels = get_data('sign_mnist_test.csv')\n",
        "\n",
        "# Keep these\n",
        "print()\n",
        "print(training_images.shape)\n",
        "print(training_labels.shape)\n",
        "print(testing_images.shape)\n",
        "print(testing_labels.shape)\n",
        "\n",
        "# Their output should be:\n",
        "# (27455, 28, 28)\n",
        "# (27455,)\n",
        "# (7172, 28, 28)\n",
        "# (7172,)"
      ],
      "execution_count": 3,
      "outputs": [
        {
          "output_type": "stream",
          "text": [
            "sign_mnist_train.csv: 100%|██████████| 27455/27455 [00:05<00:00, 4930.39it/s]\n",
            "sign_mnist_test.csv: 100%|██████████| 7172/7172 [00:01<00:00, 4819.10it/s]"
          ],
          "name": "stderr"
        },
        {
          "output_type": "stream",
          "text": [
            "\n",
            "(27455, 28, 28)\n",
            "(27455,)\n",
            "(7172, 28, 28)\n",
            "(7172,)\n"
          ],
          "name": "stdout"
        },
        {
          "output_type": "stream",
          "text": [
            "\n"
          ],
          "name": "stderr"
        }
      ]
    },
    {
      "metadata": {
        "id": "tLoQwmcXMcY4",
        "colab_type": "code",
        "colab": {
          "base_uri": "https://localhost:8080/",
          "height": 34
        },
        "outputId": "26a9bc81-73fa-46e6-e20d-f8d05d9ce5ec"
      },
      "cell_type": "code",
      "source": [
        "#get number of labels in this dataset\n",
        "np.unique(training_labels).shape"
      ],
      "execution_count": 4,
      "outputs": [
        {
          "output_type": "execute_result",
          "data": {
            "text/plain": [
              "(24,)"
            ]
          },
          "metadata": {
            "tags": []
          },
          "execution_count": 4
        }
      ]
    },
    {
      "metadata": {
        "id": "awoqRpyZdQkD",
        "colab_type": "code",
        "colab": {
          "base_uri": "https://localhost:8080/",
          "height": 51
        },
        "outputId": "788c3d02-71f1-486b-8c55-ac98c8f62bb8"
      },
      "cell_type": "code",
      "source": [
        "# In this section you will have to add another dimension to the data\n",
        "# So, for example, if your array is (10000, 28, 28)\n",
        "# You will need to make it (10000, 28, 28, 1)\n",
        "# Hint: np.expand_dims\n",
        "\n",
        "training_images = np.expand_dims(training_images, axis=3) # Your Code Here\n",
        "testing_images = np.expand_dims(testing_images, axis=3) # Your Code Here\n",
        "\n",
        "# Create an ImageDataGenerator and do Image Augmentation\n",
        "train_datagen = ImageDataGenerator(\n",
        "                    # Your Code Here\n",
        "                    rescale = 1./255,\n",
        "                    rotation_range=40,\n",
        "                    width_shift_range=0.2,\n",
        "                    height_shift_range=0.2,\n",
        "                    shear_range=0.2,\n",
        "                    zoom_range=0.2,\n",
        "                    horizontal_flip=True,\n",
        "                    fill_mode='nearest'\n",
        "                    )\n",
        "\n",
        "validation_datagen = ImageDataGenerator(\n",
        "                    # Your Code Here\n",
        "                    rescale = 1./255\n",
        "                    )\n",
        "    \n",
        "# Keep These\n",
        "print(training_images.shape)\n",
        "print(testing_images.shape)\n",
        "    \n",
        "# Their output should be:\n",
        "# (27455, 28, 28, 1)\n",
        "# (7172, 28, 28, 1)"
      ],
      "execution_count": 5,
      "outputs": [
        {
          "output_type": "stream",
          "text": [
            "(27455, 28, 28, 1)\n",
            "(7172, 28, 28, 1)\n"
          ],
          "name": "stdout"
        }
      ]
    },
    {
      "metadata": {
        "id": "Rmb7S32cgRqS",
        "colab_type": "code",
        "colab": {
          "base_uri": "https://localhost:8080/",
          "height": 1703
        },
        "outputId": "6ecafb07-07da-486b-ecef-5d4715d38b84"
      },
      "cell_type": "code",
      "source": [
        "# Define the model\n",
        "# Use no more than 2 Conv2D and 2 MaxPooling2D\n",
        "model = tf.keras.models.Sequential([\n",
        "                                    # Your Code Here\n",
        "                                    # first convolution\n",
        "                                    tf.keras.layers.Conv2D(64, (3,3), activation='relu', input_shape=(28, 28, 1)),\n",
        "                                    tf.keras.layers.MaxPooling2D(2, 2),\n",
        "                                    # second convolution\n",
        "                                    tf.keras.layers.Conv2D(128, (3,3), activation='relu'),\n",
        "                                    tf.keras.layers.MaxPooling2D(2,2),\n",
        "                                    # Flatten the results\n",
        "                                    tf.keras.layers.Flatten(),\n",
        "                                    tf.keras.layers.Dropout(0.5),\n",
        "                                    tf.keras.layers.Dense(512, activation='relu'),\n",
        "                                    tf.keras.layers.Dense(24, activation='softmax')\n",
        "                                    ])\n",
        "\n",
        "# Compile Model. \n",
        "#difference between sparse_categorical_crossentropy and categorical_crossentropy is the latter expects one-hot encoding of the label\n",
        "model.compile(loss = 'sparse_categorical_crossentropy',\n",
        "              optimizer='adam',\n",
        "              metrics=['accuracy']\n",
        ")\n",
        "\n",
        "# Train the Model\n",
        "train_generator = train_datagen.flow(training_images,\n",
        "                                     training_labels)\n",
        "validation_generator = validation_datagen.flow(testing_images, testing_labels)\n",
        "\n",
        "history = model.fit_generator(train_generator,\n",
        "                              validation_data = validation_generator,\n",
        "                              epochs=30,\n",
        "                              verbose = 1)\n",
        "\n",
        "model.evaluate(testing_images, testing_labels)\n",
        "    \n",
        "# The output from model.evaluate should be close to:\n",
        "[6.92426086682151, 0.56609035]\n"
      ],
      "execution_count": 6,
      "outputs": [
        {
          "output_type": "stream",
          "text": [
            "WARNING:tensorflow:From /usr/local/lib/python3.6/dist-packages/tensorflow/python/ops/resource_variable_ops.py:435: colocate_with (from tensorflow.python.framework.ops) is deprecated and will be removed in a future version.\n",
            "Instructions for updating:\n",
            "Colocations handled automatically by placer.\n",
            "WARNING:tensorflow:From /usr/local/lib/python3.6/dist-packages/tensorflow/python/keras/layers/core.py:143: calling dropout (from tensorflow.python.ops.nn_ops) with keep_prob is deprecated and will be removed in a future version.\n",
            "Instructions for updating:\n",
            "Please use `rate` instead of `keep_prob`. Rate should be set to `rate = 1 - keep_prob`.\n",
            "Epoch 1/30\n",
            "225/225 [==============================] - 1s 4ms/step - loss: nan - acc: 0.0462\n",
            "858/858 [==============================] - 12s 14ms/step - loss: nan - acc: 0.0410 - val_loss: nan - val_acc: 0.0462\n",
            "Epoch 2/30\n",
            "225/225 [==============================] - 1s 3ms/step - loss: nan - acc: 0.0462\n",
            "858/858 [==============================] - 11s 12ms/step - loss: nan - acc: 0.0410 - val_loss: nan - val_acc: 0.0462\n",
            "Epoch 3/30\n",
            "225/225 [==============================] - 1s 3ms/step - loss: nan - acc: 0.0462\n",
            "858/858 [==============================] - 10s 12ms/step - loss: nan - acc: 0.0410 - val_loss: nan - val_acc: 0.0462\n",
            "Epoch 4/30\n",
            "225/225 [==============================] - 1s 3ms/step - loss: nan - acc: 0.0462\n",
            "858/858 [==============================] - 10s 12ms/step - loss: nan - acc: 0.0410 - val_loss: nan - val_acc: 0.0462\n",
            "Epoch 5/30\n",
            "225/225 [==============================] - 1s 3ms/step - loss: nan - acc: 0.0462\n",
            "858/858 [==============================] - 10s 12ms/step - loss: nan - acc: 0.0410 - val_loss: nan - val_acc: 0.0462\n",
            "Epoch 6/30\n",
            "225/225 [==============================] - 1s 3ms/step - loss: nan - acc: 0.0462\n",
            "858/858 [==============================] - 10s 12ms/step - loss: nan - acc: 0.0410 - val_loss: nan - val_acc: 0.0462\n",
            "Epoch 7/30\n",
            "225/225 [==============================] - 1s 4ms/step - loss: nan - acc: 0.0462\n",
            "858/858 [==============================] - 11s 13ms/step - loss: nan - acc: 0.0410 - val_loss: nan - val_acc: 0.0462\n",
            "Epoch 8/30\n",
            "225/225 [==============================] - 1s 3ms/step - loss: nan - acc: 0.0462\n",
            "858/858 [==============================] - 11s 13ms/step - loss: nan - acc: 0.0410 - val_loss: nan - val_acc: 0.0462\n",
            "Epoch 9/30\n",
            "225/225 [==============================] - 1s 3ms/step - loss: nan - acc: 0.0462\n",
            "858/858 [==============================] - 10s 12ms/step - loss: nan - acc: 0.0410 - val_loss: nan - val_acc: 0.0462\n",
            "Epoch 10/30\n",
            "225/225 [==============================] - 1s 3ms/step - loss: nan - acc: 0.0462\n",
            "858/858 [==============================] - 10s 12ms/step - loss: nan - acc: 0.0410 - val_loss: nan - val_acc: 0.0462\n",
            "Epoch 11/30\n",
            "225/225 [==============================] - 1s 3ms/step - loss: nan - acc: 0.0462\n",
            "858/858 [==============================] - 10s 12ms/step - loss: nan - acc: 0.0410 - val_loss: nan - val_acc: 0.0462\n",
            "Epoch 12/30\n",
            "225/225 [==============================] - 1s 3ms/step - loss: nan - acc: 0.0462\n",
            "858/858 [==============================] - 10s 12ms/step - loss: nan - acc: 0.0410 - val_loss: nan - val_acc: 0.0462\n",
            "Epoch 13/30\n",
            "225/225 [==============================] - 1s 3ms/step - loss: nan - acc: 0.0462\n",
            "858/858 [==============================] - 10s 12ms/step - loss: nan - acc: 0.0410 - val_loss: nan - val_acc: 0.0462\n",
            "Epoch 14/30\n",
            "225/225 [==============================] - 1s 3ms/step - loss: nan - acc: 0.0462\n",
            "858/858 [==============================] - 10s 12ms/step - loss: nan - acc: 0.0410 - val_loss: nan - val_acc: 0.0462\n",
            "Epoch 15/30\n",
            "225/225 [==============================] - 1s 4ms/step - loss: nan - acc: 0.0462\n",
            "858/858 [==============================] - 11s 13ms/step - loss: nan - acc: 0.0410 - val_loss: nan - val_acc: 0.0462\n",
            "Epoch 16/30\n",
            "225/225 [==============================] - 1s 3ms/step - loss: nan - acc: 0.0462\n",
            "858/858 [==============================] - 11s 12ms/step - loss: nan - acc: 0.0410 - val_loss: nan - val_acc: 0.0462\n",
            "Epoch 17/30\n",
            "225/225 [==============================] - 1s 3ms/step - loss: nan - acc: 0.0462\n",
            "858/858 [==============================] - 10s 12ms/step - loss: nan - acc: 0.0410 - val_loss: nan - val_acc: 0.0462\n",
            "Epoch 18/30\n",
            "225/225 [==============================] - 1s 3ms/step - loss: nan - acc: 0.0462\n",
            "858/858 [==============================] - 10s 12ms/step - loss: nan - acc: 0.0410 - val_loss: nan - val_acc: 0.0462\n",
            "Epoch 19/30\n",
            "225/225 [==============================] - 1s 3ms/step - loss: nan - acc: 0.0462\n",
            "858/858 [==============================] - 10s 12ms/step - loss: nan - acc: 0.0410 - val_loss: nan - val_acc: 0.0462\n",
            "Epoch 20/30\n",
            "225/225 [==============================] - 1s 3ms/step - loss: nan - acc: 0.0462\n",
            "858/858 [==============================] - 10s 12ms/step - loss: nan - acc: 0.0410 - val_loss: nan - val_acc: 0.0462\n",
            "Epoch 21/30\n",
            "225/225 [==============================] - 1s 3ms/step - loss: nan - acc: 0.0462\n",
            "858/858 [==============================] - 10s 12ms/step - loss: nan - acc: 0.0410 - val_loss: nan - val_acc: 0.0462\n",
            "Epoch 22/30\n",
            "225/225 [==============================] - 1s 3ms/step - loss: nan - acc: 0.0462\n",
            "858/858 [==============================] - 10s 12ms/step - loss: nan - acc: 0.0410 - val_loss: nan - val_acc: 0.0462\n",
            "Epoch 23/30\n",
            "225/225 [==============================] - 1s 4ms/step - loss: nan - acc: 0.0462\n",
            "858/858 [==============================] - 11s 13ms/step - loss: nan - acc: 0.0410 - val_loss: nan - val_acc: 0.0462\n",
            "Epoch 24/30\n",
            "225/225 [==============================] - 1s 3ms/step - loss: nan - acc: 0.0462\n",
            "858/858 [==============================] - 10s 12ms/step - loss: nan - acc: 0.0410 - val_loss: nan - val_acc: 0.0462\n",
            "Epoch 25/30\n",
            "225/225 [==============================] - 1s 3ms/step - loss: nan - acc: 0.0462\n",
            "858/858 [==============================] - 10s 12ms/step - loss: nan - acc: 0.0410 - val_loss: nan - val_acc: 0.0462\n",
            "Epoch 26/30\n",
            "225/225 [==============================] - 1s 3ms/step - loss: nan - acc: 0.0462\n",
            "858/858 [==============================] - 10s 12ms/step - loss: nan - acc: 0.0410 - val_loss: nan - val_acc: 0.0462\n",
            "Epoch 27/30\n",
            "225/225 [==============================] - 1s 3ms/step - loss: nan - acc: 0.0462\n",
            "858/858 [==============================] - 10s 12ms/step - loss: nan - acc: 0.0410 - val_loss: nan - val_acc: 0.0462\n",
            "Epoch 28/30\n",
            "225/225 [==============================] - 1s 3ms/step - loss: nan - acc: 0.0462\n",
            "858/858 [==============================] - 10s 12ms/step - loss: nan - acc: 0.0410 - val_loss: nan - val_acc: 0.0462\n",
            "Epoch 29/30\n",
            "225/225 [==============================] - 1s 3ms/step - loss: nan - acc: 0.0462\n",
            "858/858 [==============================] - 12s 14ms/step - loss: nan - acc: 0.0410 - val_loss: nan - val_acc: 0.0462\n",
            "Epoch 30/30\n",
            "225/225 [==============================] - 1s 3ms/step - loss: nan - acc: 0.0462\n",
            "858/858 [==============================] - 10s 12ms/step - loss: nan - acc: 0.0410 - val_loss: nan - val_acc: 0.0462\n",
            "7172/7172 [==============================] - 0s 68us/sample - loss: nan - acc: 0.0462\n"
          ],
          "name": "stdout"
        },
        {
          "output_type": "execute_result",
          "data": {
            "text/plain": [
              "[6.92426086682151, 0.56609035]"
            ]
          },
          "metadata": {
            "tags": []
          },
          "execution_count": 6
        }
      ]
    },
    {
      "metadata": {
        "id": "uGAiO2-nP6gX",
        "colab_type": "code",
        "colab": {
          "base_uri": "https://localhost:8080/",
          "height": 34
        },
        "outputId": "af60cdb8-0be3-413b-9cd1-b5051a628e8d"
      },
      "cell_type": "code",
      "source": [
        "history.history.keys()"
      ],
      "execution_count": 7,
      "outputs": [
        {
          "output_type": "execute_result",
          "data": {
            "text/plain": [
              "dict_keys(['loss', 'acc', 'val_loss', 'val_acc'])"
            ]
          },
          "metadata": {
            "tags": []
          },
          "execution_count": 7
        }
      ]
    },
    {
      "metadata": {
        "id": "_Q3Zpr46dsij",
        "colab_type": "code",
        "colab": {
          "base_uri": "https://localhost:8080/",
          "height": 545
        },
        "outputId": "bb704b54-00c0-40e0-debe-7f1e11c5aa50"
      },
      "cell_type": "code",
      "source": [
        "# Plot the chart for accuracy and loss on both training and validation\n",
        "\n",
        "import matplotlib.pyplot as plt\n",
        "acc = history.history['acc'] # Your Code Here\n",
        "val_acc = history.history['val_acc'] # Your Code Here\n",
        "loss = history.history['loss'] # Your Code Here\n",
        "val_loss = history.history['val_loss'] # Your Code Here\n",
        "\n",
        "\n",
        "epochs = range(len(acc))\n",
        "\n",
        "plt.plot(epochs, acc, 'r', label='Training accuracy')\n",
        "plt.plot(epochs, val_acc, 'b', label='Validation accuracy')\n",
        "plt.title('Training and validation accuracy')\n",
        "plt.legend()\n",
        "plt.figure()\n",
        "\n",
        "plt.plot(epochs, loss, 'r', label='Training Loss')\n",
        "plt.plot(epochs, val_loss, 'b', label='Validation Loss')\n",
        "plt.title('Training and validation loss')\n",
        "plt.legend()\n",
        "\n",
        "plt.show()"
      ],
      "execution_count": 8,
      "outputs": [
        {
          "output_type": "display_data",
          "data": {
            "image/png": "[encoded data removed]",
            "text/plain": [
              "<Figure size 432x288 with 1 Axes>"
            ]
          },
          "metadata": {
            "tags": []
          }
        },
        {
          "output_type": "display_data",
          "data": {
            "image/png": "[encoded data removed]",
            "text/plain": [
              "<Figure size 432x288 with 1 Axes>"
            ]
          },
          "metadata": {
            "tags": []
          }
        }
      ]
    }
  ]
}