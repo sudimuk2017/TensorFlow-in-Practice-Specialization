{
  "nbformat": 4,
  "nbformat_minor": 0,
  "metadata": {
    "colab": {
      "name": "exercise-answer.ipynb",
      "provenance": [],
      "include_colab_link": true
    },
    "kernelspec": {
      "name": "python3",
      "display_name": "Python 3"
    }
  },
  "cells": [
    {
      "cell_type": "markdown",
      "metadata": {
        "id": "view-in-github",
        "colab_type": "text"
      },
      "source": [
        "<a href=\"https://colab.research.google.com/github/lmoroney/dlaicourse/blob/master/Advanced%20TensorFlow/Extending%20Keras/Week%201%20-%20Functional%20API/exercise-answer.ipynb\" target=\"_parent\"><img src=\"https://colab.research.google.com/assets/colab-badge.svg\" alt=\"Open In Colab\"/></a>"
      ]
    },
    {
      "cell_type": "code",
      "metadata": {
        "id": "i_MD3wdwHFn4",
        "colab_type": "code",
        "colab": {}
      },
      "source": [
        "#@title Licensed under the Apache License, Version 2.0 (the \"License\");\n",
        "# you may not use this file except in compliance with the License.\n",
        "# You may obtain a copy of the License at\n",
        "#\n",
        "# https://www.apache.org/licenses/LICENSE-2.0\n",
        "#\n",
        "# Unless required by applicable law or agreed to in writing, software\n",
        "# distributed under the License is distributed on an \"AS IS\" BASIS,\n",
        "# WITHOUT WARRANTIES OR CONDITIONS OF ANY KIND, either express or implied.\n",
        "# See the License for the specific language governing permissions and\n",
        "# limitations under the License."
      ],
      "execution_count": 0,
      "outputs": []
    },
    {
      "cell_type": "markdown",
      "metadata": {
        "id": "ZL_6GK8qX35J",
        "colab_type": "text"
      },
      "source": [
        "\n",
        "\n",
        "# Multiple Output Models using Keras Functional API\n",
        "\n",
        "Use keras functional API to train a network to predict two different outputs. For this example you will use the **[Wine Quality Dataset](https://archive.ics.uci.edu/ml/datasets/Wine+Quality)** from the **UCI machine learning repository**. It has separate datasets for red wine and white wine.\n",
        "\n",
        "Normally the wines are classified into one of the quality ratings specified in the attributes. In our example you will combine the two datasets so to predict the wine quality and whether the wine is red or white solely from the attributes. \n",
        "\n",
        "You will model wine quality estimations as a regression problem and wine type detection as a binary classification problem.\n"
      ]
    },
    {
      "cell_type": "markdown",
      "metadata": {
        "id": "obdcD6urYBY9",
        "colab_type": "text"
      },
      "source": [
        "## Imports"
      ]
    },
    {
      "cell_type": "code",
      "metadata": {
        "id": "t8N3pcTQ5oQI",
        "colab_type": "code",
        "colab": {}
      },
      "source": [
        "try:\n",
        "  # %tensorflow_version only exists in Colab.\n",
        "  %tensorflow_version 2.x\n",
        "except Exception:\n",
        "  pass\n",
        "  \n",
        "import tensorflow as tf\n",
        "from tensorflow.keras.models import Model\n",
        "from tensorflow.keras.layers import Dense, Input\n",
        "\n",
        "import numpy as np\n",
        "import matplotlib.pyplot as plt\n",
        "import pandas as pd\n",
        "from sklearn.model_selection import train_test_split\n",
        "from sklearn.metrics import confusion_matrix\n",
        "import itertools\n",
        "\n",
        "\n"
      ],
      "execution_count": 0,
      "outputs": []
    },
    {
      "cell_type": "markdown",
      "metadata": {
        "id": "gQMERzWQYpgm",
        "colab_type": "text"
      },
      "source": [
        "## Load Dataset\n",
        "Here is where you can download the data for the wines. \n",
        "\n",
        "You will add a new column named 'is_red' in our dataframe to indicate if the wine is white or red. \n",
        "\n",
        "In the white wine datset you will fill the column 'is_red' with  zeros and in the red wine dataset you will fill it with ones.\n"
      ]
    },
    {
      "cell_type": "code",
      "metadata": {
        "id": "2qYAjKXCd4RH",
        "colab_type": "code",
        "colab": {}
      },
      "source": [
        "URL = 'http://archive.ics.uci.edu/ml/machine-learning-databases/wine-quality/winequality-white.csv'\n",
        "white_df = pd.read_csv(URL, sep=\";\")\n",
        "white_df[\"is_red\"] = 0\n",
        "white_df = white_df.drop_duplicates(keep='first')\n"
      ],
      "execution_count": 0,
      "outputs": []
    },
    {
      "cell_type": "code",
      "metadata": {
        "id": "OQHK0ohBQRCk",
        "colab_type": "code",
        "colab": {}
      },
      "source": [
        "print(white_df.alcohol[0])\n",
        "print(white_df.alcohol[100])\n",
        "#EXPECTED OUTPUT\n",
        "#8.8\n",
        "#9.1"
      ],
      "execution_count": 0,
      "outputs": []
    },
    {
      "cell_type": "code",
      "metadata": {
        "id": "8y3QxKwBed8v",
        "colab_type": "code",
        "colab": {}
      },
      "source": [
        "URL = 'http://archive.ics.uci.edu/ml/machine-learning-databases/wine-quality/winequality-red.csv'\n",
        "red_df = pd.read_csv(URL, sep=\";\")\n",
        "red_df[\"is_red\"] = 1\n",
        "red_df = red_df.drop_duplicates(keep='first')\n"
      ],
      "execution_count": 0,
      "outputs": []
    },
    {
      "cell_type": "code",
      "metadata": {
        "id": "zsB3LUzNQpo_",
        "colab_type": "code",
        "colab": {}
      },
      "source": [
        "print(red_df.alcohol[0])\n",
        "print(red_df.alcohol[100])\n",
        "#EXPECTED OUTPUT\n",
        "#9.4\n",
        "#10.2"
      ],
      "execution_count": 0,
      "outputs": []
    },
    {
      "cell_type": "markdown",
      "metadata": {
        "id": "2G8B-NYuM6-f",
        "colab_type": "text"
      },
      "source": [
        "Next, the two datasets will be concatenated."
      ]
    },
    {
      "cell_type": "code",
      "metadata": {
        "id": "YpQrOjJbfN3m",
        "colab_type": "code",
        "colab": {}
      },
      "source": [
        "df = pd.concat([red_df, white_df], ignore_index=True)\n"
      ],
      "execution_count": 0,
      "outputs": []
    },
    {
      "cell_type": "code",
      "metadata": {
        "id": "Se2dTmThQyjb",
        "colab_type": "code",
        "colab": {}
      },
      "source": [
        "print(df.alcohol[0])\n",
        "print(df.alcohol[100])\n",
        "#EXPECTED OUTPUT\n",
        "#9.4\n",
        "#9.5"
      ],
      "execution_count": 0,
      "outputs": []
    },
    {
      "cell_type": "code",
      "metadata": {
        "id": "wx6y3rPpQv4k",
        "colab_type": "code",
        "colab": {}
      },
      "source": [
        "# NOTE: In a real-world scenario you should shuffle the data\n",
        "# YOU ARE NOT going to do that here, because we want to test\n",
        "# with deterministic data. But if you want the code to do it\n",
        "# it's in the commented line below:\n",
        "\n",
        "#df = df.iloc[np.random.permutation(len(df))]"
      ],
      "execution_count": 0,
      "outputs": []
    },
    {
      "cell_type": "markdown",
      "metadata": {
        "id": "-EqIcbg5M_n1",
        "colab_type": "text"
      },
      "source": [
        "This will chart the quality of the wines"
      ]
    },
    {
      "cell_type": "code",
      "metadata": {
        "id": "IsvK0-Sgy17C",
        "colab_type": "code",
        "colab": {}
      },
      "source": [
        "df['quality'].hist(bins=20) "
      ],
      "execution_count": 0,
      "outputs": []
    },
    {
      "cell_type": "markdown",
      "metadata": {
        "id": "Nut1rmYLzf-p",
        "colab_type": "text"
      },
      "source": [
        "We can see from the plot above that wine quality dataset is imbalanced. Since there are very few observations with quality 3, 4, 8 and 9, you can drop these observations from our dataset. You can do this by removing data belonging all classes except those >4 and <8"
      ]
    },
    {
      "cell_type": "code",
      "metadata": {
        "id": "doH9_-gnf3sz",
        "colab_type": "code",
        "colab": {}
      },
      "source": [
        "df = df[(df['quality'] > 4) & (df['quality'] < 8 )]\n",
        "df = df.reset_index(drop=True)"
      ],
      "execution_count": 0,
      "outputs": []
    },
    {
      "cell_type": "code",
      "metadata": {
        "id": "xNR1iAlMRPXO",
        "colab_type": "code",
        "colab": {}
      },
      "source": [
        "print(df.alcohol[0])\n",
        "print(df.alcohol[100])\n",
        "#EXPECTED OUTPUT\n",
        "#9.4\n",
        "#10.9"
      ],
      "execution_count": 0,
      "outputs": []
    },
    {
      "cell_type": "markdown",
      "metadata": {
        "id": "cwhuRpnVRTzG",
        "colab_type": "text"
      },
      "source": [
        "You can plot again to see the new range of data and quality"
      ]
    },
    {
      "cell_type": "code",
      "metadata": {
        "id": "857ygzZiLgGg",
        "colab_type": "code",
        "colab": {}
      },
      "source": [
        "df['quality'].hist(bins=20) "
      ],
      "execution_count": 0,
      "outputs": []
    },
    {
      "cell_type": "markdown",
      "metadata": {
        "id": "n3k0vqSsp84t",
        "colab_type": "text"
      },
      "source": [
        "Next you can split the datasets into training, test and validation datasets.\n",
        "\n",
        "The data frame should be split 80:20 into train and test\n",
        "\n",
        "The resulting train should then be split 80:20 into train and validation\n"
      ]
    },
    {
      "cell_type": "code",
      "metadata": {
        "id": "PAVIf2-fgRVY",
        "colab_type": "code",
        "colab": {}
      },
      "source": [
        "train, test = train_test_split(df, test_size=0.2)\n",
        "train, val = train_test_split(train, test_size=0.2)"
      ],
      "execution_count": 0,
      "outputs": []
    },
    {
      "cell_type": "code",
      "metadata": {
        "id": "57h9LcEzRWpk",
        "colab_type": "code",
        "colab": {}
      },
      "source": [
        "print(train.size)\n",
        "print(test.size)\n",
        "print(val.size)\n",
        "\n",
        "#EXPECTED OUTPUT\n",
        "# 41015\n",
        "# 12831\n",
        "# 10257"
      ],
      "execution_count": 0,
      "outputs": []
    },
    {
      "cell_type": "markdown",
      "metadata": {
        "id": "RwTNu4KFqG-K",
        "colab_type": "text"
      },
      "source": [
        "Here's where you can explore the training stats. You can pop the labels 'is_red' and 'quality' from the data as these will be used as the labels\n"
      ]
    },
    {
      "cell_type": "code",
      "metadata": {
        "id": "Y_afyhhHM6WQ",
        "colab_type": "code",
        "colab": {}
      },
      "source": [
        "train_stats = train.describe()\n",
        "train_stats.pop('is_red')\n",
        "train_stats.pop('quality')\n",
        "train_stats = train_stats.transpose()"
      ],
      "execution_count": 0,
      "outputs": []
    },
    {
      "cell_type": "markdown",
      "metadata": {
        "id": "ahvbYm4fNqSt",
        "colab_type": "text"
      },
      "source": [
        "Explore the training stats!"
      ]
    },
    {
      "cell_type": "code",
      "metadata": {
        "id": "n_gAtPjZ0otF",
        "colab_type": "code",
        "colab": {}
      },
      "source": [
        "train_stats"
      ],
      "execution_count": 0,
      "outputs": []
    },
    {
      "cell_type": "markdown",
      "metadata": {
        "id": "bGPvt9jir_HC",
        "colab_type": "text"
      },
      "source": [
        "Next pop the quality and type columns from the dataframe and convert it into numpy arrays. Do this for the train, validation and test datasets.\n",
        "\n"
      ]
    },
    {
      "cell_type": "code",
      "metadata": {
        "id": "Z_fs14XQqZVP",
        "colab_type": "code",
        "colab": {}
      },
      "source": [
        "def format_output(data):\n",
        "  is_red = data.pop('is_red')\n",
        "  is_red = np.array(is_red)\n",
        "  quality = data.pop('quality')\n",
        "  quality = np.array(quality)\n",
        "  return (quality, is_red)"
      ],
      "execution_count": 0,
      "outputs": []
    },
    {
      "cell_type": "code",
      "metadata": {
        "id": "8L3ZZe1fQicm",
        "colab_type": "code",
        "colab": {}
      },
      "source": [
        "train_Y = format_output(train)\n",
        "val_Y = format_output(val)\n",
        "test_Y = format_output(test)\n"
      ],
      "execution_count": 0,
      "outputs": []
    },
    {
      "cell_type": "markdown",
      "metadata": {
        "id": "hEdbrruAsN1D",
        "colab_type": "text"
      },
      "source": [
        "Next, you can normalize the data using the formula:\n",
        "**X - mean(X) / Std(X)**"
      ]
    },
    {
      "cell_type": "code",
      "metadata": {
        "id": "WWiZPAHCLjUs",
        "colab_type": "code",
        "colab": {}
      },
      "source": [
        "def norm(x):\n",
        "  return (x - train_stats['mean']) / train_stats['std']"
      ],
      "execution_count": 0,
      "outputs": []
    },
    {
      "cell_type": "code",
      "metadata": {
        "id": "JEaOi2I2Lk69",
        "colab_type": "code",
        "colab": {}
      },
      "source": [
        "norm_train_X = norm(train)\n",
        "norm_val_X = norm(val)\n",
        "norm_test_X = norm(test)"
      ],
      "execution_count": 0,
      "outputs": []
    },
    {
      "cell_type": "markdown",
      "metadata": {
        "id": "hzykDwQhsaPO",
        "colab_type": "text"
      },
      "source": [
        "## Defining the Model\n",
        "\n",
        "Define the model using the functional API. The base model will simply be 2 dense layers of 128 neurons each."
      ]
    },
    {
      "cell_type": "code",
      "metadata": {
        "id": "Rhcns3oTFkM6",
        "colab_type": "code",
        "colab": {}
      },
      "source": [
        "def base_model(inputs):\n",
        "  x = tf.keras.layers.Dense(units = '128', activation = 'relu')(inputs)\n",
        "  x = tf.keras.layers.Dense(units = '128', activation = 'relu')(x)\n",
        "  return x\n",
        "  "
      ],
      "execution_count": 0,
      "outputs": []
    },
    {
      "cell_type": "markdown",
      "metadata": {
        "id": "xem_fcVws6Kz",
        "colab_type": "text"
      },
      "source": [
        "The final model will need two outputs. \n",
        "\n",
        "Add output layers to the base model for wine quality output. \n",
        "\n",
        "The first, for wine quality will be a dense layer with 1 neuron that will be used for classification.\n",
        "\n",
        "The other, for wine type will be a dense layer with 1 neuron that will be used for regression (and thus activated by sigmoid)"
      ]
    },
    {
      "cell_type": "code",
      "metadata": {
        "id": "n5UGF8PMVLPt",
        "colab_type": "code",
        "colab": {}
      },
      "source": [
        "def final_model(inputs):\n",
        "  x = base_model(inputs)\n",
        "  \n",
        "  wine_quality = Dense('1', name = 'wine_quality')(x)\n",
        "  wine_type = Dense(units = '1', activation = 'sigmoid', name = 'wine_type')(x)\n",
        "  \n",
        "  model = Model(inputs = inputs, outputs = [wine_quality, wine_type])\n",
        "  \n",
        "  return model"
      ],
      "execution_count": 0,
      "outputs": []
    },
    {
      "cell_type": "markdown",
      "metadata": {
        "id": "5R0BMTsltZyu",
        "colab_type": "text"
      },
      "source": [
        "## Compiling the Model\n",
        "\n",
        "Next, compile the model. Use different loss functions for the two outputs. \n",
        "\n",
        "Since you will performing binary classification on wine type, you should use the binary crossentropy loss function for it.\n",
        "\n",
        "As wine quality is a regression, you should use mean squared error as its loss function.\n",
        "\n",
        "Similarly, you should also specify the metrics for two different outputs. Use RMSE  for wine quality and accuracy for wine type"
      ]
    },
    {
      "cell_type": "code",
      "metadata": {
        "id": "LK11duUbUjmh",
        "colab_type": "code",
        "colab": {}
      },
      "source": [
        "inputs = tf.keras.layers.Input(shape=(11,))\n",
        "rms = tf.keras.optimizers.RMSprop(lr=0.0001)\n",
        "model = final_model(inputs)\n",
        "model.compile(optimizer=rms, \n",
        "              loss = {'wine_type' : 'binary_crossentropy',\n",
        "                      'wine_quality' : 'mse'\n",
        "                     },\n",
        "              metrics = {'wine_type' : 'accuracy',\n",
        "                         'wine_quality': tf.keras.metrics.RootMeanSquaredError()\n",
        "                       }\n",
        "             )"
      ],
      "execution_count": 0,
      "outputs": []
    },
    {
      "cell_type": "markdown",
      "metadata": {
        "id": "90MpAMpWuKm-",
        "colab_type": "text"
      },
      "source": [
        "## Training the Model\n",
        "\n",
        "Fit the model to the training inputs and outputs\n"
      ]
    },
    {
      "cell_type": "code",
      "metadata": {
        "id": "_eiZkle4XwiY",
        "colab_type": "code",
        "colab": {}
      },
      "source": [
        "history = model.fit(norm_train_X, train_Y,\n",
        "                    epochs = 180, validation_data=(norm_val_X, val_Y))"
      ],
      "execution_count": 0,
      "outputs": []
    },
    {
      "cell_type": "markdown",
      "metadata": {
        "id": "Fzg97uT6PWIh",
        "colab_type": "text"
      },
      "source": [
        "Gather the training metrics"
      ]
    },
    {
      "cell_type": "code",
      "metadata": {
        "id": "hhs6qTf32Wr2",
        "colab_type": "code",
        "colab": {}
      },
      "source": [
        "loss, wine_quality_loss, wine_type_loss, wine_quality_rmse, wine_type_accuracy = model.evaluate(x=norm_val_X, y=val_Y)\n",
        "\n"
      ],
      "execution_count": 0,
      "outputs": []
    },
    {
      "cell_type": "code",
      "metadata": {
        "id": "CubF2J2gSf6q",
        "colab_type": "code",
        "colab": {}
      },
      "source": [
        "print(loss)\n",
        "print(wine_quality_loss)\n",
        "print(wine_type_loss)\n",
        "print(wine_quality_rmse)\n",
        "print(wine_type_accuracy)\n",
        "# EXPECTED VALUES\n",
        "# ~ 0.34 - 0.38\n",
        "# ~ 0.34 - 0.38\n",
        "# ~ 0.018 - 0.022\n",
        "# ~ 0.56 - 0.62\n",
        "# ~ 0.97 - 1.0\n",
        "# Example:\n",
        "#0.3657050132751465\n",
        "#0.3463745415210724\n",
        "#0.019330406561493874\n",
        "#0.5885359048843384\n",
        "#0.9974651336669922"
      ],
      "execution_count": 0,
      "outputs": []
    },
    {
      "cell_type": "markdown",
      "metadata": {
        "id": "gPtTGAP4usnm",
        "colab_type": "text"
      },
      "source": [
        "## Analyze the Model Performance\n",
        "\n",
        "Note that the model has two outputs. The output at index 0 is quality and index 1 is wine type\n",
        "\n",
        "So, round the quality predictions to the nearest integer."
      ]
    },
    {
      "cell_type": "code",
      "metadata": {
        "id": "tBq9PEeAaW-Y",
        "colab_type": "code",
        "colab": {}
      },
      "source": [
        "predictions = model.predict(norm_test_X)\n",
        "quality_pred = predictions[0]\n",
        "type_pred = predictions[1]"
      ],
      "execution_count": 0,
      "outputs": []
    },
    {
      "cell_type": "code",
      "metadata": {
        "id": "YLhgTR4xTIxj",
        "colab_type": "code",
        "colab": {}
      },
      "source": [
        "print(quality_pred[0])\n",
        "# EXPECTED OUTPUT\n",
        "# 5.6 - 6.0"
      ],
      "execution_count": 0,
      "outputs": []
    },
    {
      "cell_type": "code",
      "metadata": {
        "id": "MPi-eYfGTUXi",
        "colab_type": "code",
        "colab": {}
      },
      "source": [
        "print(type_pred[0])\n",
        "print(type_pred[946])\n",
        "# EXPECTED OUTPUT\n",
        "# A number close to zero\n",
        "# A number close to or equal to 1"
      ],
      "execution_count": 0,
      "outputs": []
    },
    {
      "cell_type": "markdown",
      "metadata": {
        "id": "Kohk-9C6vt_s",
        "colab_type": "text"
      },
      "source": [
        "### Plot Utilities"
      ]
    },
    {
      "cell_type": "code",
      "metadata": {
        "id": "62gEOFUhn6aQ",
        "colab_type": "code",
        "colab": {}
      },
      "source": [
        "def plot_metrics(metric_name, title, ylim=5):\n",
        "  plt.title(title)\n",
        "  plt.ylim(0,ylim)\n",
        "  plt.plot(history.history[metric_name],color='blue',label=metric_name)\n",
        "  plt.plot(history.history['val_' + metric_name],color='green',label='val_' + metric_name)\n"
      ],
      "execution_count": 0,
      "outputs": []
    },
    {
      "cell_type": "code",
      "metadata": {
        "id": "6rfgSx7uz5dj",
        "colab_type": "code",
        "colab": {}
      },
      "source": [
        "def plot_confusion_matrix(y_true, y_pred, title='', labels=[0,1]):\n",
        "  cm = confusion_matrix(y_true, y_pred)\n",
        "  fig = plt.figure()\n",
        "  ax = fig.add_subplot(111)\n",
        "  cax = ax.matshow(cm)\n",
        "  plt.title('Confusion matrix of the classifier')\n",
        "  fig.colorbar(cax)\n",
        "  ax.set_xticklabels([''] + labels)\n",
        "  ax.set_yticklabels([''] + labels)\n",
        "  plt.xlabel('Predicted')\n",
        "  plt.ylabel('True')\n",
        "  fmt = 'd'\n",
        "  thresh = cm.max() / 2.\n",
        "  for i, j in itertools.product(range(cm.shape[0]), range(cm.shape[1])):\n",
        "          plt.text(j, i, format(cm[i, j], fmt),\n",
        "                  horizontalalignment=\"center\",\n",
        "                  color=\"black\" if cm[i, j] > thresh else \"white\")\n",
        "  plt.show()"
      ],
      "execution_count": 0,
      "outputs": []
    },
    {
      "cell_type": "code",
      "metadata": {
        "id": "dfVLIqi017Vf",
        "colab_type": "code",
        "colab": {}
      },
      "source": [
        "def plot_diff(y_true, y_pred, title = '' ):\n",
        "  plt.scatter(y_true, y_pred)\n",
        "  plt.title(title)\n",
        "  plt.xlabel('True Values')\n",
        "  plt.ylabel('Predictions')\n",
        "  plt.axis('equal')\n",
        "  plt.axis('square')\n",
        "  plt.plot([-100, 100], [-100, 100])\n",
        "  return plt"
      ],
      "execution_count": 0,
      "outputs": []
    },
    {
      "cell_type": "markdown",
      "metadata": {
        "id": "8sd1jdFbwE0I",
        "colab_type": "text"
      },
      "source": [
        "### Plots for Metrics"
      ]
    },
    {
      "cell_type": "code",
      "metadata": {
        "id": "f3MwZ5J1pOfj",
        "colab_type": "code",
        "colab": {}
      },
      "source": [
        "plot_metrics('wine_quality_root_mean_squared_error', 'RMSE', ylim=2)"
      ],
      "execution_count": 0,
      "outputs": []
    },
    {
      "cell_type": "code",
      "metadata": {
        "id": "QIAxEezCppnd",
        "colab_type": "code",
        "colab": {}
      },
      "source": [
        "plot_metrics('wine_type_loss', 'Wine Type Loss', ylim=0.2)"
      ],
      "execution_count": 0,
      "outputs": []
    },
    {
      "cell_type": "markdown",
      "metadata": {
        "id": "uYV9AOAMwI9p",
        "colab_type": "text"
      },
      "source": [
        "### Plots for Confusion Matrix\n",
        "\n",
        "Plot the confusion matrices for wine type. You can see that the model performs well for prediction of wine type from the confusion matrix and the loss metrics."
      ]
    },
    {
      "cell_type": "code",
      "metadata": {
        "id": "C3hvTYxIaf3n",
        "colab_type": "code",
        "colab": {}
      },
      "source": [
        "plot_confusion_matrix(test_Y[1], np.round(type_pred), title='Wine Type', labels = [0, 1])"
      ],
      "execution_count": 0,
      "outputs": []
    },
    {
      "cell_type": "code",
      "metadata": {
        "id": "GW91ym8P2I5y",
        "colab_type": "code",
        "colab": {}
      },
      "source": [
        "scatter_plot = plot_diff(test_Y[0], quality_pred, title='Type')"
      ],
      "execution_count": 0,
      "outputs": []
    }
  ]
}