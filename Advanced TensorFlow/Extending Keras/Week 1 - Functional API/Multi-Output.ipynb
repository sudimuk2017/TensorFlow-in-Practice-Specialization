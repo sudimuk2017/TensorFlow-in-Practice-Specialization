{
  "nbformat": 4,
  "nbformat_minor": 0,
  "metadata": {
    "colab": {
      "name": "Multi-Output.ipynb",
      "provenance": [],
      "include_colab_link": true
    },
    "kernelspec": {
      "name": "python3",
      "display_name": "Python 3"
    }
  },
  "cells": [
    {
      "cell_type": "markdown",
      "metadata": {
        "id": "view-in-github",
        "colab_type": "text"
      },
      "source": [
        "<a href=\"https://colab.research.google.com/github/lmoroney/dlaicourse/blob/master/Advanced%20TensorFlow/Extending%20Keras/Week%201%20-%20Functional%20API/Multi-Output.ipynb\" target=\"_parent\"><img src=\"https://colab.research.google.com/assets/colab-badge.svg\" alt=\"Open In Colab\"/></a>"
      ]
    },
    {
      "cell_type": "code",
      "metadata": {
        "id": "i_MD3wdwHFn4",
        "colab_type": "code",
        "colab": {}
      },
      "source": [
        "#@title Licensed under the Apache License, Version 2.0 (the \"License\");\n",
        "# you may not use this file except in compliance with the License.\n",
        "# You may obtain a copy of the License at\n",
        "#\n",
        "# https://www.apache.org/licenses/LICENSE-2.0\n",
        "#\n",
        "# Unless required by applicable law or agreed to in writing, software\n",
        "# distributed under the License is distributed on an \"AS IS\" BASIS,\n",
        "# WITHOUT WARRANTIES OR CONDITIONS OF ANY KIND, either express or implied.\n",
        "# See the License for the specific language governing permissions and\n",
        "# limitations under the License."
      ],
      "execution_count": null,
      "outputs": []
    },
    {
      "cell_type": "code",
      "metadata": {
        "id": "0p84I7yFHRT2",
        "colab_type": "code",
        "colab": {}
      },
      "source": [
        "try:\n",
        "  # %tensorflow_version only exists in Colab.\n",
        "  %tensorflow_version 2.x\n",
        "except Exception:\n",
        "  pass"
      ],
      "execution_count": null,
      "outputs": []
    },
    {
      "cell_type": "code",
      "metadata": {
        "id": "04Y-C9RYUTes",
        "colab_type": "code",
        "colab": {}
      },
      "source": [
        "import tensorflow as tf\n",
        "import numpy as np\n",
        "import matplotlib.pyplot as plt\n",
        "import pandas as pd\n",
        "from tensorflow.keras.models import Model\n",
        "from tensorflow.keras.layers import Dense, Input\n",
        "from sklearn.model_selection import train_test_split\n",
        "\n",
        "\n",
        "def format_output(data):\n",
        "    y1 = data.pop('Y1')\n",
        "    y1 = np.array(y1)\n",
        "    y2 = data.pop('Y2')\n",
        "    y2 = np.array(y2)\n",
        "    return y1, y2\n",
        "\n",
        "\n",
        "def norm(x):\n",
        "    return (x - train_stats['mean']) / train_stats['std']\n",
        "\n",
        "\n",
        "def plot_diff(y_true, y_pred, title=''):\n",
        "    plt.scatter(y_true, y_pred)\n",
        "    plt.title(title)\n",
        "    plt.xlabel('True Values')\n",
        "    plt.ylabel('Predictions')\n",
        "    plt.axis('equal')\n",
        "    plt.axis('square')\n",
        "    plt.xlim(plt.xlim())\n",
        "    plt.ylim(plt.ylim())\n",
        "    plt.plot([-100, 100], [-100, 100])\n",
        "    plt.show()\n",
        "\n",
        "\n",
        "def plot_metrics(metric_name, title, ylim=5):\n",
        "    plt.title(title)\n",
        "    plt.ylim(0, ylim)\n",
        "    plt.plot(history.history[metric_name], color='blue', label=metric_name)\n",
        "    plt.plot(history.history['val_' + metric_name], color='green', label='val_' + metric_name)\n",
        "    plt.show()\n",
        "\n",
        "\n",
        "# Get the data from UCI dataset\n",
        "URL = 'https://archive.ics.uci.edu/ml/machine-learning-databases/00242/ENB2012_data.xlsx'\n",
        "# Use pandas excel reader\n",
        "df = pd.read_excel(URL)\n",
        "df = df.sample(frac=1).reset_index(drop=True)\n",
        "\n",
        "# Split the data into train and test with 80 train / 20 test\n",
        "train, test = train_test_split(df, test_size=0.2)\n",
        "train_stats = train.describe()\n",
        "\n",
        "# Get Y1 and Y2 as the 2 outputs and format them as np arrays\n",
        "train_stats.pop('Y1')\n",
        "train_stats.pop('Y2')\n",
        "train_stats = train_stats.transpose()\n",
        "train_Y = format_output(train)\n",
        "test_Y = format_output(test)\n",
        "\n",
        "# Normalize the training and test data\n",
        "norm_train_X = norm(train)\n",
        "norm_test_X = norm(test)\n",
        "\n",
        "# Define model layers.\n",
        "input_layer = Input(shape=(len(train .columns),))\n",
        "first_dense = Dense(units='128', activation='relu')(input_layer)\n",
        "second_dense = Dense(units='128', activation='relu')(first_dense)\n",
        "\n",
        "# Y1 output will be fed directly from the second dense\n",
        "y1_output = Dense(units='1', name='y1_output')(second_dense)\n",
        "third_dense = Dense(units='64', activation='relu')(second_dense)\n",
        "\n",
        "# Y2 output will come via the third dense\n",
        "y2_output = Dense(units='1', name='y2_output')(third_dense)\n",
        "\n",
        "# Define the model with the input layer and a list of output layers\n",
        "model = Model(inputs=input_layer, outputs=[y1_output, y2_output])\n",
        "print(model.summary())\n",
        "\n",
        "# Specify the optimizer, and compile the model with loss functions for both outputs\n",
        "optimizer = tf.keras.optimizers.SGD(lr=0.001)\n",
        "model.compile(optimizer=optimizer,\n",
        "              loss={'y1_output': 'mse', 'y2_output': 'mse'},\n",
        "              metrics={'y1_output': tf.keras.metrics.RootMeanSquaredError(),\n",
        "                       'y2_output': tf.keras.metrics.RootMeanSquaredError()})\n",
        "\n",
        "# Train the model for 2000 epochs\n",
        "history = model.fit(norm_train_X, train_Y,\n",
        "                    epochs=2000, batch_size=10, validation_data=(norm_test_X, test_Y))\n",
        "\n",
        "# Test the model and print loss and mse for both outputs\n",
        "loss, Y1_loss, Y2_loss, Y1_rmse, Y2_rmse = model.evaluate(x=norm_test_X, y=test_Y)\n",
        "print(\"Loss = {}, Y1_loss = {}, Y1_mse = {}, Y2_loss = {}, Y2_mse = {}\".format(loss, Y1_loss, Y1_rmse, Y2_loss, Y2_rmse))\n",
        "\n",
        "# Plot the loss and mse\n",
        "Y_pred = model.predict(norm_test_X)\n",
        "plot_diff(test_Y[0], Y_pred[0], title='Y1')\n",
        "plot_diff(test_Y[1], Y_pred[1], title='Y2')\n",
        "plot_metrics(metric_name='y1_output_root_mean_squared_error', title='Y1 RMSE', ylim=6)\n",
        "plot_metrics(metric_name='y2_output_root_mean_squared_error', title='Y2 RMSE', ylim=7)\n"
      ],
      "execution_count": null,
      "outputs": []
    }
  ]
}