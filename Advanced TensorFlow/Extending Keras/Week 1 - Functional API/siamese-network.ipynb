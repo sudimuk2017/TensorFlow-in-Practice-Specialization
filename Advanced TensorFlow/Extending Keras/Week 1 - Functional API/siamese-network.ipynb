{
  "nbformat": 4,
  "nbformat_minor": 0,
  "metadata": {
    "colab": {
      "name": "siamese-network.ipynb",
      "provenance": [],
      "include_colab_link": true
    },
    "kernelspec": {
      "name": "python3",
      "display_name": "Python 3"
    }
  },
  "cells": [
    {
      "cell_type": "markdown",
      "metadata": {
        "id": "view-in-github",
        "colab_type": "text"
      },
      "source": [
        "<a href=\"https://colab.research.google.com/github/lmoroney/dlaicourse/blob/master/Advanced%20TensorFlow/Extending%20Keras/Week%201%20-%20Functional%20API/siamese-network.ipynb\" target=\"_parent\"><img src=\"https://colab.research.google.com/assets/colab-badge.svg\" alt=\"Open In Colab\"/></a>"
      ]
    },
    {
      "cell_type": "code",
      "metadata": {
        "id": "i_MD3wdwHFn4",
        "colab_type": "code",
        "colab": {}
      },
      "source": [
        "#@title Licensed under the Apache License, Version 2.0 (the \"License\");\n",
        "# you may not use this file except in compliance with the License.\n",
        "# You may obtain a copy of the License at\n",
        "#\n",
        "# https://www.apache.org/licenses/LICENSE-2.0\n",
        "#\n",
        "# Unless required by applicable law or agreed to in writing, software\n",
        "# distributed under the License is distributed on an \"AS IS\" BASIS,\n",
        "# WITHOUT WARRANTIES OR CONDITIONS OF ANY KIND, either express or implied.\n",
        "# See the License for the specific language governing permissions and\n",
        "# limitations under the License."
      ],
      "execution_count": 0,
      "outputs": []
    },
    {
      "cell_type": "code",
      "metadata": {
        "id": "h15YkqSRlka8",
        "colab_type": "code",
        "colab": {}
      },
      "source": [
        "try:\n",
        "# %tensorflow_version only exists in Colab.\n",
        "  %tensorflow_version 2.x\n",
        "except Exception:\n",
        "  pass"
      ],
      "execution_count": 0,
      "outputs": []
    },
    {
      "cell_type": "code",
      "metadata": {
        "id": "nVHTXTZpkdtM",
        "colab_type": "code",
        "colab": {}
      },
      "source": [
        "import tensorflow as tf\n",
        "from tensorflow.keras.models import Model\n",
        "from tensorflow.keras.layers import Input, Flatten, Dense, Dropout, Lambda\n",
        "from tensorflow.keras.optimizers import RMSprop\n",
        "from tensorflow.keras.datasets import fashion_mnist\n",
        "from tensorflow.python.keras.utils.vis_utils import plot_model\n",
        "from keras import backend as K\n",
        "\n",
        "import numpy as np\n",
        "import matplotlib.pyplot as plt\n",
        "from PIL import Image, ImageFont, ImageDraw\n",
        "import random"
      ],
      "execution_count": 0,
      "outputs": []
    },
    {
      "cell_type": "code",
      "metadata": {
        "id": "iSQMl9cZkgDx",
        "colab_type": "code",
        "colab": {}
      },
      "source": [
        "def create_pairs(x, digit_indices):\n",
        "    '''Positive and negative pair creation.\n",
        "    Alternates between positive and negative pairs.\n",
        "    '''\n",
        "    pairs = []\n",
        "    labels = []\n",
        "    n = min([len(digit_indices[d]) for d in range(10)]) - 1\n",
        "    for d in range(10):\n",
        "        for i in range(n):\n",
        "            z1, z2 = digit_indices[d][i], digit_indices[d][i + 1]\n",
        "            pairs += [[x[z1], x[z2]]]\n",
        "            inc = random.randrange(1, 10)\n",
        "            dn = (d + inc) % 10\n",
        "            z1, z2 = digit_indices[d][i], digit_indices[dn][i]\n",
        "            pairs += [[x[z1], x[z2]]]\n",
        "            labels += [1, 0]\n",
        "    return np.array(pairs), np.array(labels)\n",
        "\n",
        "\n",
        "def create_pairs_on_set(images, labels):\n",
        "  digit_indices = [np.where(labels == i)[0] for i in range(10)]\n",
        "  pairs, y = create_pairs(images, digit_indices)\n",
        "  y = y.astype('float32')\n",
        "  return pairs, y"
      ],
      "execution_count": 0,
      "outputs": []
    },
    {
      "cell_type": "code",
      "metadata": {
        "id": "ook7lKQakomz",
        "colab_type": "code",
        "colab": {}
      },
      "source": [
        "(train_images, train_labels), (test_images, test_labels) = fashion_mnist.load_data()\n",
        "\n",
        "train_images = train_images.astype('float32')\n",
        "test_images = test_images.astype('float32')\n",
        "train_images = train_images / 255.0\n",
        "test_images = test_images / 255.0\n",
        "\n",
        "tr_pairs, tr_y = create_pairs_on_set(train_images, train_labels)\n",
        "ts_pairs, ts_y = create_pairs_on_set(test_images, test_labels)"
      ],
      "execution_count": 0,
      "outputs": []
    },
    {
      "cell_type": "code",
      "metadata": {
        "id": "BhTpANwipLIk",
        "colab_type": "code",
        "colab": {}
      },
      "source": [
        "def show_image(image):\n",
        "  plt.figure()\n",
        "  plt.imshow(image)\n",
        "  plt.colorbar()\n",
        "  plt.grid(False)\n",
        "  plt.show()\n",
        "\n",
        "this_pair = 8\n",
        "show_image(ts_pairs[this_pair][0])\n",
        "show_image(ts_pairs[this_pair][1])\n",
        "print(tr_y[this_pair])\n"
      ],
      "execution_count": 0,
      "outputs": []
    },
    {
      "cell_type": "code",
      "metadata": {
        "id": "lbgAYQW0zT_4",
        "colab_type": "code",
        "colab": {}
      },
      "source": [
        "import numpy\n",
        "show_image(tr_pairs[:,0][0])\n",
        "show_image(tr_pairs[:,0][1])\n",
        "\n",
        "show_image(tr_pairs[:,1][0])\n",
        "show_image(tr_pairs[:,1][1])\n",
        "\n"
      ],
      "execution_count": 0,
      "outputs": []
    },
    {
      "cell_type": "code",
      "metadata": {
        "id": "wMo2HbKLkuAa",
        "colab_type": "code",
        "colab": {}
      },
      "source": [
        "def initialize_base_network():\n",
        "  input = Input(shape=(28,28,), name=\"base_input\")\n",
        "  x = Flatten(name=\"flatten_input\")(input)\n",
        "  x = Dense(128, activation='relu', name=\"first_base_dense\")(x)\n",
        "  x = Dropout(0.1, name=\"first_dropout\")(x)\n",
        "  x = Dense(128, activation='relu', name=\"second_base_dense\")(x)\n",
        "  x = Dropout(0.1, name=\"second_dropout\")(x)\n",
        "  x = Dense(128, activation='relu', name=\"third_base_dense\")(x)\n",
        "  return Model(inputs=input, outputs=x)\n",
        "\n",
        "\n",
        "def euclidean_distance(vects):\n",
        "    x, y = vects\n",
        "    sum_square = K.sum(K.square(x - y), axis=1, keepdims=True)\n",
        "    return K.sqrt(K.maximum(sum_square, K.epsilon()))\n",
        "\n",
        "\n",
        "def eucl_dist_output_shape(shapes):\n",
        "    shape1, shape2 = shapes\n",
        "    return (shape1[0], 1)"
      ],
      "execution_count": 0,
      "outputs": []
    },
    {
      "cell_type": "code",
      "metadata": {
        "id": "8FjSLg_LoJAy",
        "colab_type": "code",
        "colab": {}
      },
      "source": [
        "base_network = initialize_base_network()\n",
        "plot_model(base_network, show_shapes=True, show_layer_names=True, to_file='base-model.png')"
      ],
      "execution_count": 0,
      "outputs": []
    },
    {
      "cell_type": "code",
      "metadata": {
        "id": "Qe4YNz0kkwq5",
        "colab_type": "code",
        "colab": {}
      },
      "source": [
        "input_a = Input(shape=(28,28,), name=\"left_input\")\n",
        "vect_output_a = base_network(input_a)\n",
        "input_b = Input(shape=(28,28,), name=\"right_input\")\n",
        "vect_output_b = base_network(input_b)\n",
        "\n",
        "output = Lambda(euclidean_distance, name=\"output_layer\", output_shape=eucl_dist_output_shape)([vect_output_a, vect_output_b])\n",
        "model = Model([input_a, input_b], output)\n",
        "\n",
        "# Plot model graph\n",
        "plot_model(model, show_shapes=True, show_layer_names=True, to_file='outer-model.png')"
      ],
      "execution_count": 0,
      "outputs": []
    },
    {
      "cell_type": "code",
      "metadata": {
        "id": "HswzRyDAk-V7",
        "colab_type": "code",
        "colab": {}
      },
      "source": [
        "def contrastive_loss_with_margin(margin):\n",
        "  def contrastive_loss(y_true, y_pred):\n",
        "      '''Contrastive loss from Hadsell-et-al.'06\n",
        "      http://yann.lecun.com/exdb/publis/pdf/hadsell-chopra-lecun-06.pdf\n",
        "      '''\n",
        "      square_pred = K.square(y_pred)\n",
        "      margin_square = K.square(K.maximum(margin - y_pred, 0))\n",
        "      return K.mean(y_true * square_pred + (1 - y_true) * margin_square)\n",
        "  return contrastive_loss"
      ],
      "execution_count": 0,
      "outputs": []
    },
    {
      "cell_type": "code",
      "metadata": {
        "id": "UIGaA9TMlBCc",
        "colab_type": "code",
        "colab": {}
      },
      "source": [
        "rms = RMSprop()\n",
        "model.compile(loss=contrastive_loss_with_margin(margin=1), optimizer=rms)\n",
        "history = model.fit([tr_pairs[:,0], tr_pairs[:,1]], tr_y, epochs=20, batch_size=128, validation_data=([ts_pairs[:,0], ts_pairs[:,1]], ts_y))\n",
        "\n",
        "loss = model.evaluate(x=[ts_pairs[:,0],ts_pairs[:,1]], y=ts_y)"
      ],
      "execution_count": 0,
      "outputs": []
    },
    {
      "cell_type": "code",
      "metadata": {
        "id": "RYwU4CIhlIE4",
        "colab_type": "code",
        "colab": {}
      },
      "source": [
        "def compute_accuracy(y_true, y_pred):\n",
        "    '''Compute classification accuracy with a fixed threshold on distances.\n",
        "    '''\n",
        "    pred = y_pred.ravel() > 0.5\n",
        "    return np.mean(pred == y_true)"
      ],
      "execution_count": 0,
      "outputs": []
    },
    {
      "cell_type": "code",
      "metadata": {
        "id": "IyfJWzjYlKMg",
        "colab_type": "code",
        "colab": {}
      },
      "source": [
        "y_pred_train = model.predict([tr_pairs[:,0], tr_pairs[:,1]])\n",
        "train_accuracy = compute_accuracy(tr_y, y_pred_train)\n",
        "\n",
        "y_pred_test = model.predict([ts_pairs[:,0], ts_pairs[:,1]])\n",
        "test_accuracy = compute_accuracy(ts_y, y_pred_test)\n",
        "\n",
        "print(\"Loss = {}, Train Accuracy = {} Test Accuracy = {}\".format(loss, train_accuracy, test_accuracy))"
      ],
      "execution_count": 0,
      "outputs": []
    },
    {
      "cell_type": "code",
      "metadata": {
        "id": "3obxy4EBlMyI",
        "colab_type": "code",
        "colab": {}
      },
      "source": [
        "def plot_metrics(metric_name, title, ylim=5):\n",
        "  plt.title(title)\n",
        "  plt.ylim(0,ylim)\n",
        "  plt.plot(history.history[metric_name],color='blue',label=metric_name)\n",
        "  plt.plot(history.history['val_' + metric_name],color='green',label='val_' + metric_name)\n",
        "\n",
        "\n",
        "plot_metrics(metric_name='loss', title=\"Loss\", ylim=0.2)"
      ],
      "execution_count": 0,
      "outputs": []
    },
    {
      "cell_type": "code",
      "metadata": {
        "id": "E9KLCFiClP9Q",
        "colab_type": "code",
        "colab": {}
      },
      "source": [
        "def visualize_images():\n",
        "# Matplotlib config\n",
        "  plt.rc('image', cmap='gray_r')\n",
        "  plt.rc('grid', linewidth=0)\n",
        "  plt.rc('xtick', top=False, bottom=False, labelsize='large')\n",
        "  plt.rc('ytick', left=False, right=False, labelsize='large')\n",
        "  plt.rc('axes', facecolor='F8F8F8', titlesize=\"large\", edgecolor='white')\n",
        "  plt.rc('text', color='a8151a')\n",
        "  plt.rc('figure', facecolor='F0F0F0')# Matplotlib fonts\n",
        "\n",
        "\n",
        "# utility to display a row of digits with their predictions\n",
        "def display_images(left, right, predictions, labels, title, n):\n",
        "  plt.figure(figsize=(17,3))\n",
        "  plt.title(title)\n",
        "  plt.yticks([])\n",
        "  plt.xticks([])\n",
        "  plt.grid(None)\n",
        "  left = np.reshape(left, [n, 28, 28])\n",
        "  left = np.swapaxes(left, 0, 1)\n",
        "  left = np.reshape(left, [28, 28*n])\n",
        "  plt.imshow(left)\n",
        "  plt.figure(figsize=(17,3))\n",
        "  plt.yticks([])\n",
        "  plt.xticks([28*x+14 for x in range(n)], predictions)\n",
        "  for i,t in enumerate(plt.gca().xaxis.get_ticklabels()):\n",
        "      if predictions[i] > 0.5: t.set_color('red') # bad predictions in red\n",
        "  plt.grid(None)\n",
        "  right = np.reshape(right, [n, 28, 28])\n",
        "  right = np.swapaxes(right, 0, 1)\n",
        "  right = np.reshape(right, [28, 28*n])\n",
        "  plt.imshow(right)\n",
        "\n"
      ],
      "execution_count": 0,
      "outputs": []
    },
    {
      "cell_type": "code",
      "metadata": {
        "id": "VRxB-Tmemzt9",
        "colab_type": "code",
        "colab": {}
      },
      "source": [
        "y_pred_train = np.squeeze(y_pred_train)\n",
        "indexes = np.random.choice(len(y_pred_train), size=10)\n",
        "display_images(tr_pairs[:, 0][indexes], tr_pairs[:, 1][indexes], y_pred_train[indexes], tr_y[indexes], \"clothes and their dissimilarity\", 10)"
      ],
      "execution_count": 0,
      "outputs": []
    }
  ]
}