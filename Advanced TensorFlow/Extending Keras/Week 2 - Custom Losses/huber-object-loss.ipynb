{
  "nbformat": 4,
  "nbformat_minor": 0,
  "metadata": {
    "colab": {
      "name": "huber-object-loss.ipynb",
      "provenance": [],
      "include_colab_link": true
    },
    "kernelspec": {
      "name": "python3",
      "display_name": "Python 3"
    }
  },
  "cells": [
    {
      "cell_type": "markdown",
      "metadata": {
        "id": "view-in-github",
        "colab_type": "text"
      },
      "source": [
        "<a href=\"https://colab.research.google.com/github/lmoroney/dlaicourse/blob/master/Advanced%20TensorFlow/Extending%20Keras/Week%202%20-%20Custom%20Losses/huber-object-loss.ipynb\" target=\"_parent\"><img src=\"https://colab.research.google.com/assets/colab-badge.svg\" alt=\"Open In Colab\"/></a>"
      ]
    },
    {
      "cell_type": "code",
      "metadata": {
        "id": "i_MD3wdwHFn4",
        "colab_type": "code",
        "colab": {}
      },
      "source": [
        "#@title Licensed under the Apache License, Version 2.0 (the \"License\");\n",
        "# you may not use this file except in compliance with the License.\n",
        "# You may obtain a copy of the License at\n",
        "#\n",
        "# https://www.apache.org/licenses/LICENSE-2.0\n",
        "#\n",
        "# Unless required by applicable law or agreed to in writing, software\n",
        "# distributed under the License is distributed on an \"AS IS\" BASIS,\n",
        "# WITHOUT WARRANTIES OR CONDITIONS OF ANY KIND, either express or implied.\n",
        "# See the License for the specific language governing permissions and\n",
        "# limitations under the License."
      ],
      "execution_count": 0,
      "outputs": []
    },
    {
      "cell_type": "code",
      "metadata": {
        "id": "0p84I7yFHRT2",
        "colab_type": "code",
        "colab": {}
      },
      "source": [
        "try:\n",
        "  # %tensorflow_version only exists in Colab.\n",
        "  %tensorflow_version 2.x\n",
        "except Exception:\n",
        "  pass"
      ],
      "execution_count": 0,
      "outputs": []
    },
    {
      "cell_type": "code",
      "metadata": {
        "id": "0pajvrhrInPa",
        "colab_type": "code",
        "colab": {}
      },
      "source": [
        "import tensorflow as tf\n",
        "import numpy as np\n",
        "from tensorflow import keras\n",
        "\n",
        "xs = np.array([-1.0,  0.0, 1.0, 2.0, 3.0, 4.0], dtype=float)\n",
        "ys = np.array([-3.0, -1.0, 1.0, 3.0, 5.0, 7.0], dtype=float)"
      ],
      "execution_count": 0,
      "outputs": []
    },
    {
      "cell_type": "code",
      "metadata": {
        "id": "FvRZpxk2tGn6",
        "colab_type": "code",
        "colab": {}
      },
      "source": [
        "def my_huber_loss_with_threshold(threshold):\n",
        "  def my_huber_loss(y_true, y_pred):\n",
        "    error = y_true - y_pred\n",
        "    is_small_error = tf.abs(error) <= threshold\n",
        "    small_error_loss = tf.square(error) / 2\n",
        "    big_error_loss = threshold * (tf.abs(error) - (0.5 * threshold))\n",
        "    return tf.where(is_small_error, small_error_loss, big_error_loss) \n",
        "  return my_huber_loss"
      ],
      "execution_count": 0,
      "outputs": []
    },
    {
      "cell_type": "code",
      "metadata": {
        "id": "K7rgmb5qH5QX",
        "colab_type": "code",
        "colab": {}
      },
      "source": [
        "model = tf.keras.Sequential([keras.layers.Dense(units=1, input_shape=[1])])\n",
        "model.compile(optimizer='sgd', loss=my_huber_loss_with_threshold(threshold=1.2))\n",
        "model.fit(xs, ys, epochs=500,verbose=0)\n",
        "print(model.predict([10.0]))"
      ],
      "execution_count": 0,
      "outputs": []
    },
    {
      "cell_type": "code",
      "metadata": {
        "id": "iderl2m0saTa",
        "colab_type": "code",
        "colab": {}
      },
      "source": [
        "from tensorflow.keras.losses import Loss\n",
        "\n",
        "class MyHuberLoss(Loss):\n",
        "  threshold = 1\n",
        "  def __init__(self, threshold):\n",
        "    super().__init__()\n",
        "    self.threshold = threshold\n",
        "\n",
        "  def call(self, y_true, y_pred):\n",
        "    error = y_true - y_pred\n",
        "    is_small_error = tf.abs(error) <= self.threshold\n",
        "    small_error_loss = tf.square(error) / 2\n",
        "    big_error_loss = self.threshold * (tf.abs(error) - (0.5 * self.threshold))\n",
        "    return tf.where(is_small_error, small_error_loss, big_error_loss)"
      ],
      "execution_count": 0,
      "outputs": []
    },
    {
      "cell_type": "code",
      "metadata": {
        "colab_type": "code",
        "id": "lwKWfSmDIayP",
        "colab": {}
      },
      "source": [
        "model = tf.keras.Sequential([keras.layers.Dense(units=1, input_shape=[1])])\n",
        "model.compile(optimizer='sgd', loss=MyHuberLoss(threshold=1.02))\n",
        "model.fit(xs, ys, epochs=500,verbose=0)\n",
        "print(model.predict([10.0]))"
      ],
      "execution_count": 0,
      "outputs": []
    }
  ]
}