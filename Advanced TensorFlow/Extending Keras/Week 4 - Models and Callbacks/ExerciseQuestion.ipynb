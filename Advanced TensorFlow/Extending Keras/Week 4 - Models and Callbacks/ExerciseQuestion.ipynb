{
  "nbformat": 4,
  "nbformat_minor": 0,
  "metadata": {
    "colab": {
      "name": "ExerciseQuestion.ipynb",
      "provenance": [],
      "collapsed_sections": [],
      "include_colab_link": true
    },
    "kernelspec": {
      "name": "python3",
      "display_name": "Python 3"
    }
  },
  "cells": [
    {
      "cell_type": "markdown",
      "metadata": {
        "id": "view-in-github",
        "colab_type": "text"
      },
      "source": [
        "<a href=\"https://colab.research.google.com/github/lmoroney/dlaicourse/blob/master/Advanced%20TensorFlow/Extending%20Keras/Week%204%20-%20Models%20and%20Callbacks/ExerciseQuestion.ipynb\" target=\"_parent\"><img src=\"https://colab.research.google.com/assets/colab-badge.svg\" alt=\"Open In Colab\"/></a>"
      ]
    },
    {
      "cell_type": "markdown",
      "metadata": {
        "id": "GC7zSrbOWiz0",
        "colab_type": "text"
      },
      "source": [
        "# Exercise - Create a VGG network "
      ]
    },
    {
      "cell_type": "code",
      "metadata": {
        "id": "Z01I5nj0NAOu",
        "colab_type": "code",
        "colab": {}
      },
      "source": [
        "import tensorflow as tf\n",
        "import tensorflow_datasets as tfds\n",
        "from tensorflow.keras import layers"
      ],
      "execution_count": null,
      "outputs": []
    },
    {
      "cell_type": "markdown",
      "metadata": {
        "id": "b2jEfuodXXyx",
        "colab_type": "text"
      },
      "source": [
        "## Create named-variables dynamically"
      ]
    },
    {
      "cell_type": "code",
      "metadata": {
        "id": "cKBLvH_IXXMx",
        "colab_type": "code",
        "colab": {}
      },
      "source": [
        "# Use the vars keyword to create a local variable named 'class'\n",
        "vars()['class'] = 'foobar' "
      ],
      "execution_count": null,
      "outputs": []
    },
    {
      "cell_type": "code",
      "metadata": {
        "id": "5dQLVZikXkyc",
        "colab_type": "code",
        "colab": {
          "base_uri": "https://localhost:8080/",
          "height": 33
        },
        "outputId": "0024e930-8899-4e25-8902-e3d4bee14fe5"
      },
      "source": [
        "# Here is how you access the variable\n",
        "vars()['class']"
      ],
      "execution_count": null,
      "outputs": [
        {
          "output_type": "execute_result",
          "data": {
            "text/plain": [
              "'foobar'"
            ]
          },
          "metadata": {
            "tags": []
          },
          "execution_count": 59
        }
      ]
    },
    {
      "cell_type": "markdown",
      "metadata": {
        "id": "k1T1UMw5YAkp",
        "colab_type": "text"
      },
      "source": [
        "## Create a generic VGG block\n",
        "This block subclasses tf.keras.Model and uses some layers like Conv2D, MaxPooling2D"
      ]
    },
    {
      "cell_type": "code",
      "metadata": {
        "id": "WGJGaxVjM00W",
        "colab_type": "code",
        "colab": {}
      },
      "source": [
        "class Block(tf.keras.Model):\n",
        "  def __init__(self, filters, kernel_size, repetitions, pool_size=2):\n",
        "    super(Block, self).__init__()\n",
        "    self.filters = filters\n",
        "    self.kernel_size = kernel_size\n",
        "    self.repetitions = repetitions\n",
        "    \n",
        "    # Create a MaxPooling 2D layer with the specified pool size and strides set to 2 \n",
        "    self.max_pool = # YOUR CODE HERE\n",
        "\n",
        "    for i in range(self.repetitions):\n",
        "      # Create a Convolutional 2D layer with \n",
        "      # number of filters, kernel size, activation 'ReLU', padding 'same'\n",
        "      vars(self)['block_{}'.format(i)] = # YOUR CODE HERE\n",
        "  \n",
        "  def call(self, inputs):\n",
        "    # Here we chain all the Convolutional layers\n",
        "    for i in range(self.repetitions):\n",
        "      layer = vars(self)['block_{}'.format(i)]\n",
        "      if i == 0:\n",
        "        # If the current repetition is 0, pass the batch of inputs to the block\n",
        "        x = # YOUR CODE HERE\n",
        "      else:\n",
        "        # Otherwise chain it with the previous block\n",
        "        x = # YOUR CODE HERE\n",
        "    return self.max_pool(x)"
      ],
      "execution_count": null,
      "outputs": []
    },
    {
      "cell_type": "markdown",
      "metadata": {
        "id": "peM2GP6uYT0U",
        "colab_type": "text"
      },
      "source": [
        "# Create the Custom VGG network\n",
        "This model stack a series of VGG blocks and a classification head is attached in the end.  "
      ]
    },
    {
      "cell_type": "code",
      "metadata": {
        "id": "yD-paeGiNGvz",
        "colab_type": "code",
        "colab": {}
      },
      "source": [
        "class MyVGG(tf.keras.Model):\n",
        "  def __init__(self, num_classes):\n",
        "    super(MyVGG, self).__init__()\n",
        "\n",
        "    # Creating blocks of VGG with the following \n",
        "    # (filters, kernel_size, repetitions) configurations\n",
        "\n",
        "    # Configure blocks of VGG (filters, kernel_size, repetitions) \n",
        "    # Intialize each block\n",
        "    self.block_a = # Block A (64, 3, 2)\n",
        "    self.block_b = # Block B (128, 3, 2) \n",
        "    self.block_c = # Block C (256, 3, 3) \n",
        "    self.block_d = # Block D (512, 3, 3) \n",
        "    self.block_e = # Block E (512, 3, 3) \n",
        "\n",
        "    # Classification head\n",
        "    # Define a Flatten layer\n",
        "    self.flatten = # YOUR CODE HERE\n",
        "    # Create a Dense layer with 256 units and ReLU as the activation function\n",
        "    self.fc = # YOUR CODE HERE\n",
        "    # Finally add the softmax classifier using a Dense layer\n",
        "    self.classifier = # YOUR CODE HERE\n",
        "\n",
        "  def call(self, inputs):\n",
        "    # Chain all the layers one after the other\n",
        "    x = # YOUR CODE HERE\n",
        "    x = # YOUR CODE HERE\n",
        "    # ...\n",
        "    return self.classifier(x)"
      ],
      "execution_count": null,
      "outputs": []
    },
    {
      "cell_type": "code",
      "metadata": {
        "id": "MaF763OKNJxU",
        "colab_type": "code",
        "colab": {}
      },
      "source": [
        "dataset = tfds.load('cats_vs_dogs', split=tfds.Split.TRAIN)\n",
        "\n",
        "# Initialize VGG with the number of classes \n",
        "vgg = # YOUR CODE HERE\n",
        "\n",
        "# Compile with losses and metrics\n",
        "vgg.compile(optimizer='adam', loss='sparse_categorical_crossentropy', metrics=['accuracy'])\n",
        "\n",
        "# Define preprocessing function\n",
        "def preprocess(features):\n",
        "  # Resize and normalize\n",
        "  image = tf.image.resize(features['image'], (224, 224))\n",
        "  return tf.cast(image, tf.float32) / 255., features['label']\n",
        "\n",
        "# Apply transformations to dataset\n",
        "dataset = dataset.map(preprocess).batch(32)\n",
        "\n",
        "# Train the custom VGG model\n",
        "vgg.fit(dataset, epochs=10)"
      ],
      "execution_count": null,
      "outputs": []
    }
  ]
}
