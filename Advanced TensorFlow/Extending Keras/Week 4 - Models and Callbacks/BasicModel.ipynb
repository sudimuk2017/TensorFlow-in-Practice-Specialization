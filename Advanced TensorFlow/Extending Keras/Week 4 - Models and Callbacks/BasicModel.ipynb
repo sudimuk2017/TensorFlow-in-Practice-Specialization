{
  "nbformat": 4,
  "nbformat_minor": 0,
  "metadata": {
    "colab": {
      "name": "BasicModel.ipynb",
      "provenance": [],
      "collapsed_sections": [],
      "include_colab_link": true
    },
    "kernelspec": {
      "name": "python3",
      "display_name": "Python 3"
    }
  },
  "cells": [
    {
      "cell_type": "markdown",
      "metadata": {
        "id": "view-in-github",
        "colab_type": "text"
      },
      "source": [
        "<a href=\"https://colab.research.google.com/github/lmoroney/dlaicourse/blob/master/Advanced%20TensorFlow/Extending%20Keras/Week%204%20-%20Models%20and%20Callbacks/BasicModel.ipynb\" target=\"_parent\"><img src=\"https://colab.research.google.com/assets/colab-badge.svg\" alt=\"Open In Colab\"/></a>"
      ]
    },
    {
      "cell_type": "code",
      "metadata": {
        "id": "CmI9MQA6Z72_",
        "colab_type": "code",
        "colab": {}
      },
      "source": [
        "try:\n",
        "  # %tensorflow_version only exists in Colab.\n",
        "  %tensorflow_version 2.x\n",
        "except Exception:\n",
        "  pass"
      ],
      "execution_count": null,
      "outputs": []
    },
    {
      "cell_type": "code",
      "metadata": {
        "id": "8RKbMogoaHvc",
        "colab_type": "code",
        "colab": {}
      },
      "source": [
        "import tensorflow as tf\n",
        "from tensorflow.keras import Model\n",
        "from tensorflow.keras.layers import Dense\n",
        "from tensorflow.keras.layers import concatenate\n",
        "from tensorflow.keras.layers import Input\n",
        "from tensorflow.keras.utils import plot_model"
      ],
      "execution_count": null,
      "outputs": []
    },
    {
      "cell_type": "code",
      "metadata": {
        "id": "Uz4pA6uEucZ8",
        "colab_type": "code",
        "colab": {}
      },
      "source": [
        "input_a = Input(shape=[1], name=\"Wide_Input\")\n",
        "input_b = Input(shape=[1], name=\"Deep_Input\")\n",
        "hidden_1 = Dense(30, activation=\"relu\")(input_b)\n",
        "hidden_2 = Dense(30, activation=\"relu\")(hidden_1)\n",
        "concat = concatenate([input_a, hidden_2])\n",
        "output = Dense(1, name=\"Output\")(concat)\n",
        "aux_output = Dense(1,name=\"aux_Output\")(hidden_2)\n",
        "model = Model(inputs=[input_a, input_b], outputs=[output, aux_output])\n",
        "\n",
        "plot_model(model)"
      ],
      "execution_count": null,
      "outputs": []
    },
    {
      "cell_type": "code",
      "metadata": {
        "id": "NwyCp57qqdXS",
        "colab_type": "code",
        "colab": {}
      },
      "source": [
        "class WideAndDeepModel(Model):\n",
        "  def __init__(self, units=30, activation='relu', **kwargs):\n",
        "    super().__init__(**kwargs)\n",
        "    self.hidden1 = Dense(units, activation=activation)\n",
        "    self.hidden2 = Dense(units, activation=activation)\n",
        "    self.main_output = Dense(1)\n",
        "    self.aux_output = Dense(1)\n",
        "\n",
        "  def call(self, inputs):\n",
        "    input_A, input_B = inputs\n",
        "    hidden1 = self.hidden1(input_B)\n",
        "    hidden2 = self.hidden2(hidden1)\n",
        "    concat = concatenate([input_A, hidden2])\n",
        "    main_output = self.main_output(concat)\n",
        "    aux_output = self.aux_output(hidden2)\n",
        "    return main_output, aux_output\n"
      ],
      "execution_count": null,
      "outputs": []
    },
    {
      "cell_type": "code",
      "metadata": {
        "id": "KVOkjlgwuD_9",
        "colab_type": "code",
        "colab": {}
      },
      "source": [
        "model = WideAndDeepModel()\n"
      ],
      "execution_count": null,
      "outputs": []
    }
  ]
}