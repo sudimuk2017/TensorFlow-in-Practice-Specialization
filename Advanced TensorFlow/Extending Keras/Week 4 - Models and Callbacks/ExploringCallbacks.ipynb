{
  "nbformat": 4,
  "nbformat_minor": 0,
  "metadata": {
    "colab": {
      "name": "ExploringCallbacks.ipynb",
      "provenance": [],
      "collapsed_sections": [],
      "include_colab_link": true
    },
    "kernelspec": {
      "name": "python3",
      "display_name": "Python 3"
    }
  },
  "cells": [
    {
      "cell_type": "markdown",
      "metadata": {
        "id": "view-in-github",
        "colab_type": "text"
      },
      "source": [
        "<a href=\"https://colab.research.google.com/github/lmoroney/dlaicourse/blob/master/Advanced%20TensorFlow/Extending%20Keras/Week%204%20-%20Models%20and%20Callbacks/ExploringCallbacks.ipynb\" target=\"_parent\"><img src=\"https://colab.research.google.com/assets/colab-badge.svg\" alt=\"Open In Colab\"/></a>"
      ]
    },
    {
      "cell_type": "markdown",
      "metadata": {
        "colab_type": "text",
        "id": "0c_TYhQOUe1j"
      },
      "source": [
        "## Introduction to Keras callbacks\n",
        "In Keras, `Callback` is a python class meant to be subclassed to provide specific functionality, with a set of methods called at various stages of training (including batch/epoch start and ends), testing, and predicting. Callbacks are useful to get a view on internal states and statistics of the model during training. You can pass a list of callbacks (as the keyword argument `callbacks`) to any of `tf.keras.Model.fit()`, `tf.keras.Model.evaluate()`, and `tf.keras.Model.predict()` methods. The methods of the callbacks will then be called at different stages of training/evaluating/inference.\n",
        "\n",
        "To get started, let's import tensorflow and define a simple Sequential Keras model:"
      ]
    },
    {
      "cell_type": "markdown",
      "metadata": {
        "id": "Uyl69EyRQx-f",
        "colab_type": "text"
      },
      "source": [
        "## Model methods that take callbacks\n",
        "Users can supply a list of callbacks to the following `tf.keras.Model` methods:\n",
        "#### [`fit()`](https://www.tensorflow.org/versions/r2.0/api_docs/python/tf/keras/Model#fit), [`fit_generator()`](https://www.tensorflow.org/versions/r2.0/api_docs/python/tf/keras/Model#fit_generator)\n",
        "Trains the model for a fixed number of epochs (iterations over a dataset, or data yielded batch-by-batch by a Python generator).\n",
        "#### [`evaluate()`](https://www.tensorflow.org/versions/r2.0/api_docs/python/tf/keras/Model#evaluate), [`evaluate_generator()`](https://www.tensorflow.org/versions/r2.0/api_docs/python/tf/keras/Model#evaluate_generator)\n",
        "Evaluates the model for given data or data generator. Outputs the loss and metric values from the evaluation.\n",
        "#### [`predict()`](https://www.tensorflow.org/versions/r2.0/api_docs/python/tf/keras/Model#predict), [`predict_generator()`](https://www.tensorflow.org/versions/r2.0/api_docs/python/tf/keras/Model#predict_generator)\n",
        "Generates output predictions for the input data or data generator.\n"
      ]
    },
    {
      "cell_type": "code",
      "metadata": {
        "id": "AlT1Kh3uA9lZ",
        "colab_type": "code",
        "colab": {}
      },
      "source": [
        "from __future__ import absolute_import, division, print_function, unicode_literals\n",
        "\n",
        "try:\n",
        " # %tensorflow_version only exists in Colab.\n",
        " %tensorflow_version 2.x\n",
        "except Exception:\n",
        " pass\n",
        "\n",
        "import tensorflow as tf\n",
        "import tensorflow_datasets as tfds\n",
        "import matplotlib.pyplot as plt\n",
        "import io\n",
        "from PIL import Image\n",
        "\n",
        "from tensorflow.keras.callbacks import TensorBoard, EarlyStopping, LearningRateScheduler, ModelCheckpoint, CSVLogger, ReduceLROnPlateau\n",
        "%load_ext tensorboard\n",
        "\n",
        "import os\n",
        "import matplotlib.pylab as plt\n",
        "import numpy as np\n",
        "import math\n",
        "import datetime\n",
        "import pandas as pd\n",
        "\n",
        "print(\"Version: \", tf.__version__)\n",
        "tf.get_logger().setLevel('INFO')"
      ],
      "execution_count": null,
      "outputs": []
    },
    {
      "cell_type": "markdown",
      "metadata": {
        "colab_type": "text",
        "id": "HnSljqtsXKfb"
      },
      "source": [
        "# Examples of Keras callback applications\n",
        "The following section will guide you through creating simple Callback applications."
      ]
    },
    {
      "cell_type": "code",
      "metadata": {
        "id": "spskRuxvCYQE",
        "colab_type": "code",
        "colab": {}
      },
      "source": [
        "splits = tfds.Split.ALL.subsplit(weighted=(80, 10, 10))\n",
        "\n",
        "splits, info = tfds.load('horses_or_humans', with_info=True, as_supervised=True, split = splits)\n",
        "\n",
        "(train_examples, validation_examples, test_examples) = splits\n",
        "\n",
        "num_examples = info.splits['train'].num_examples\n",
        "num_classes = info.features['label'].num_classes"
      ],
      "execution_count": null,
      "outputs": []
    },
    {
      "cell_type": "code",
      "metadata": {
        "id": "veIsubKTCZsN",
        "colab_type": "code",
        "colab": {}
      },
      "source": [
        "SIZE = 150 #@param {type:\"slider\", min:64, max:300, step:1}\n",
        "IMAGE_SIZE = (SIZE, SIZE)"
      ],
      "execution_count": null,
      "outputs": []
    },
    {
      "cell_type": "code",
      "metadata": {
        "id": "faajLlErCb1S",
        "colab_type": "code",
        "colab": {}
      },
      "source": [
        "def format_image(image, label):\n",
        "  image = tf.image.resize(image, IMAGE_SIZE) / 255.0\n",
        "  return  image, label"
      ],
      "execution_count": null,
      "outputs": []
    },
    {
      "cell_type": "code",
      "metadata": {
        "id": "AVXPuU12Cdka",
        "colab_type": "code",
        "colab": {}
      },
      "source": [
        "BATCH_SIZE = 32 #@param {type:\"integer\"}"
      ],
      "execution_count": null,
      "outputs": []
    },
    {
      "cell_type": "code",
      "metadata": {
        "id": "0lHDkFVaCe48",
        "colab_type": "code",
        "colab": {}
      },
      "source": [
        "train_batches = train_examples.shuffle(num_examples // 4).map(format_image).batch(BATCH_SIZE).prefetch(1)\n",
        "validation_batches = validation_examples.map(format_image).batch(BATCH_SIZE).prefetch(1)\n",
        "test_batches = test_examples.map(format_image).batch(1)"
      ],
      "execution_count": null,
      "outputs": []
    },
    {
      "cell_type": "code",
      "metadata": {
        "id": "DxsCqEIkCgUt",
        "colab_type": "code",
        "colab": {}
      },
      "source": [
        "for image_batch, label_batch in train_batches.take(1):\n",
        "  pass\n",
        "\n",
        "image_batch.shape"
      ],
      "execution_count": null,
      "outputs": []
    },
    {
      "cell_type": "code",
      "metadata": {
        "id": "iDBpWvHXCh2A",
        "colab_type": "code",
        "colab": {}
      },
      "source": [
        "def build_model(dense_units, input_shape=IMAGE_SIZE + (3,)):\n",
        "  model = tf.keras.models.Sequential([\n",
        "      tf.keras.layers.Conv2D(16, (3, 3), activation='relu', input_shape=input_shape),\n",
        "      tf.keras.layers.MaxPooling2D(2, 2),\n",
        "      tf.keras.layers.Conv2D(32, (3, 3), activation='relu'),\n",
        "      tf.keras.layers.MaxPooling2D(2, 2),\n",
        "      tf.keras.layers.Conv2D(64, (3, 3), activation='relu'),\n",
        "      tf.keras.layers.MaxPooling2D(2, 2),\n",
        "      tf.keras.layers.Flatten(),\n",
        "      tf.keras.layers.Dense(dense_units, activation='relu'),\n",
        "      tf.keras.layers.Dense(2, activation='softmax')\n",
        "  ])\n",
        "  return model"
      ],
      "execution_count": null,
      "outputs": []
    },
    {
      "cell_type": "markdown",
      "metadata": {
        "id": "0ZKGkjagENSw",
        "colab_type": "text"
      },
      "source": [
        "## TensorBoard"
      ]
    },
    {
      "cell_type": "code",
      "metadata": {
        "id": "CeiD2WVEHbex",
        "colab_type": "code",
        "colab": {}
      },
      "source": [
        "!rm -rf logs"
      ],
      "execution_count": null,
      "outputs": []
    },
    {
      "cell_type": "code",
      "metadata": {
        "id": "PpLwPLnAEOzv",
        "colab_type": "code",
        "colab": {}
      },
      "source": [
        "model = build_model(dense_units=256)\n",
        "model.compile(\n",
        "    optimizer='sgd',\n",
        "    loss='sparse_categorical_crossentropy', \n",
        "    metrics=['accuracy'])\n",
        "  \n",
        "logdir = os.path.join(\"logs\", datetime.datetime.now().strftime(\"%Y%m%d-%H%M%S\"))\n",
        "tensorboard_callback = tf.keras.callbacks.TensorBoard(logdir)\n",
        "\n",
        "model.fit(train_batches, \n",
        "          epochs=10, \n",
        "          validation_data=validation_batches, \n",
        "          callbacks=[tensorboard_callback])"
      ],
      "execution_count": null,
      "outputs": []
    },
    {
      "cell_type": "code",
      "metadata": {
        "id": "iJunWOjZE0ir",
        "colab_type": "code",
        "colab": {}
      },
      "source": [
        "%tensorboard --logdir logs"
      ],
      "execution_count": null,
      "outputs": []
    },
    {
      "cell_type": "markdown",
      "metadata": {
        "id": "wv9H4Pc2Mfl7",
        "colab_type": "text"
      },
      "source": [
        "## Model Checkpoint"
      ]
    },
    {
      "cell_type": "code",
      "metadata": {
        "id": "PYV4FJ8iMmDq",
        "colab_type": "code",
        "colab": {}
      },
      "source": [
        "model = build_model(dense_units=256)\n",
        "model.compile(\n",
        "    optimizer='sgd',\n",
        "    loss='sparse_categorical_crossentropy', \n",
        "    metrics=['accuracy'])\n",
        "  \n",
        "model.fit(train_batches, \n",
        "          epochs=5, \n",
        "          validation_data=validation_batches, \n",
        "          verbose=2,\n",
        "          callbacks=[ModelCheckpoint('weights.{epoch:02d}-{val_loss:.2f}.h5', verbose=1),\n",
        "          ])"
      ],
      "execution_count": null,
      "outputs": []
    },
    {
      "cell_type": "code",
      "metadata": {
        "id": "oGvjQ8IlMmK6",
        "colab_type": "code",
        "colab": {}
      },
      "source": [
        "model = build_model(dense_units=256)\n",
        "model.compile(\n",
        "    optimizer='sgd',\n",
        "    loss='sparse_categorical_crossentropy', \n",
        "    metrics=['accuracy'])\n",
        "  \n",
        "model.fit(train_batches, \n",
        "          epochs=1, \n",
        "          validation_data=validation_batches, \n",
        "          verbose=2,\n",
        "          callbacks=[ModelCheckpoint('saved_model', verbose=1)\n",
        "          ])"
      ],
      "execution_count": null,
      "outputs": []
    },
    {
      "cell_type": "code",
      "metadata": {
        "id": "Y1ConwoB0EjD",
        "colab_type": "code",
        "colab": {}
      },
      "source": [
        "model = build_model(dense_units=256)\n",
        "model.compile(\n",
        "    optimizer='sgd',\n",
        "    loss='sparse_categorical_crossentropy', \n",
        "    metrics=['accuracy'])\n",
        "  \n",
        "model.fit(train_batches, \n",
        "          epochs=2, \n",
        "          validation_data=validation_batches, \n",
        "          verbose=2,\n",
        "          callbacks=[ModelCheckpoint('model.h5', verbose=1)\n",
        "          ])"
      ],
      "execution_count": null,
      "outputs": []
    },
    {
      "cell_type": "markdown",
      "metadata": {
        "colab_type": "text",
        "id": "kptNF0--Lznv"
      },
      "source": [
        "## Early stopping"
      ]
    },
    {
      "cell_type": "code",
      "metadata": {
        "id": "KJOJTJYdCkdY",
        "colab_type": "code",
        "colab": {}
      },
      "source": [
        "model = build_model(dense_units=256)\n",
        "model.compile(\n",
        "    optimizer='sgd',\n",
        "    loss='sparse_categorical_crossentropy', \n",
        "    metrics=['accuracy'])\n",
        "  \n",
        "model.fit(train_batches, \n",
        "          epochs=50, \n",
        "          validation_data=validation_batches, \n",
        "          verbose=2,\n",
        "          callbacks=[EarlyStopping(\n",
        "              patience=3,\n",
        "              min_delta=0.05,\n",
        "              baseline=0.8,\n",
        "              mode='min',\n",
        "              monitor='val_loss',\n",
        "              restore_best_weights=True,\n",
        "              verbose=1)\n",
        "          ])"
      ],
      "execution_count": null,
      "outputs": []
    },
    {
      "cell_type": "markdown",
      "metadata": {
        "id": "8mDzWUD4Pqq5",
        "colab_type": "text"
      },
      "source": [
        "## CSV Logger"
      ]
    },
    {
      "cell_type": "code",
      "metadata": {
        "id": "cffnMpmGPtMh",
        "colab_type": "code",
        "colab": {}
      },
      "source": [
        "model = build_model(dense_units=256)\n",
        "model.compile(\n",
        "    optimizer='sgd',\n",
        "    loss='sparse_categorical_crossentropy', \n",
        "    metrics=['accuracy'])\n",
        "  \n",
        "csv_file = 'training.csv'\n",
        "\n",
        "model.fit(train_batches, \n",
        "          epochs=5, \n",
        "          validation_data=validation_batches, \n",
        "          callbacks=[CSVLogger(csv_file)\n",
        "          ])"
      ],
      "execution_count": null,
      "outputs": []
    },
    {
      "cell_type": "code",
      "metadata": {
        "id": "B9tkYi03QV7R",
        "colab_type": "code",
        "colab": {}
      },
      "source": [
        "pd.read_csv(csv_file).head()"
      ],
      "execution_count": null,
      "outputs": []
    },
    {
      "cell_type": "markdown",
      "metadata": {
        "id": "Dt9C2Y9fRBKN",
        "colab_type": "text"
      },
      "source": [
        "## Learning Rate Scheduler"
      ]
    },
    {
      "cell_type": "code",
      "metadata": {
        "id": "aJi-xY2VRC03",
        "colab_type": "code",
        "colab": {}
      },
      "source": [
        "model = build_model(dense_units=256)\n",
        "model.compile(\n",
        "    optimizer='sgd',\n",
        "    loss='sparse_categorical_crossentropy', \n",
        "    metrics=['accuracy'])\n",
        "  \n",
        "def step_decay(epoch):\n",
        "\tinitial_lr = 0.01\n",
        "\tdrop = 0.5\n",
        "\tepochs_drop = 1\n",
        "\tlr = initial_lr * math.pow(drop, math.floor((1+epoch)/epochs_drop))\n",
        "\treturn lr\n",
        "\n",
        "model.fit(train_batches, \n",
        "          epochs=5, \n",
        "          validation_data=validation_batches, \n",
        "          callbacks=[LearningRateScheduler(step_decay, verbose=1),\n",
        "                    TensorBoard(log_dir='./log_dir')])"
      ],
      "execution_count": null,
      "outputs": []
    },
    {
      "cell_type": "code",
      "metadata": {
        "id": "M2S4n8nrbV91",
        "colab_type": "code",
        "colab": {}
      },
      "source": [
        "%tensorboard --logdir log_dir"
      ],
      "execution_count": null,
      "outputs": []
    },
    {
      "cell_type": "markdown",
      "metadata": {
        "id": "y0wcuQyJE_UK",
        "colab_type": "text"
      },
      "source": [
        "## ReduceLROnPlateau"
      ]
    },
    {
      "cell_type": "code",
      "metadata": {
        "id": "4naxZ-eCFB27",
        "colab_type": "code",
        "colab": {}
      },
      "source": [
        "model = build_model(dense_units=256)\n",
        "model.compile(\n",
        "    optimizer='sgd',\n",
        "    loss='sparse_categorical_crossentropy', \n",
        "    metrics=['accuracy'])\n",
        "  \n",
        "model.fit(train_batches, \n",
        "          epochs=50, \n",
        "          validation_data=validation_batches, \n",
        "          callbacks=[ReduceLROnPlateau(monitor='val_loss', \n",
        "                                       factor=0.2, verbose=1,\n",
        "                                       patience=1, min_lr=0.001),\n",
        "                     TensorBoard(log_dir='./log_dir')])"
      ],
      "execution_count": null,
      "outputs": []
    },
    {
      "cell_type": "code",
      "metadata": {
        "id": "isfTWP4NYudk",
        "colab_type": "code",
        "colab": {}
      },
      "source": [
        "%tensorboard --logdir log_dir"
      ],
      "execution_count": null,
      "outputs": []
    },
    {
      "cell_type": "markdown",
      "metadata": {
        "colab_type": "text",
        "id": "1OykC-6lI4gv"
      },
      "source": [
        "# Keras custom callbacks\n",
        "A custom callback is a powerful tool to customize the behavior of a Keras model during training, evaluation, or inference, including reading/changing the Keras model. Examples include `tf.keras.callbacks.TensorBoard` where the training progress and results can be exported and visualized with TensorBoard, or `tf.keras.callbacks.ModelCheckpoint` where the model is automatically saved during training, and more. In this guide, you will learn what Keras callback is, when it will be called, what it can do, and how you can build your own. Towards the end of this guide, there will be demos of creating a couple of simple callback applications to get you started on your custom callback."
      ]
    },
    {
      "cell_type": "code",
      "metadata": {
        "colab_type": "code",
        "id": "Ct0VCSI2dt3a",
        "colab": {}
      },
      "source": [
        "# Define the Keras model to add callbacks to\n",
        "def get_model():\n",
        "  model = tf.keras.Sequential()\n",
        "  model.add(tf.keras.layers.Dense(1, activation = 'linear', input_dim = 784))\n",
        "  model.compile(optimizer=tf.keras.optimizers.RMSprop(lr=0.1), loss='mean_squared_error', metrics=['mae'])\n",
        "  return model"
      ],
      "execution_count": null,
      "outputs": []
    },
    {
      "cell_type": "markdown",
      "metadata": {
        "colab_type": "text",
        "id": "ySzdG1IqNgah"
      },
      "source": [
        "Then, load the MNIST data for training and testing from Keras datasets API:"
      ]
    },
    {
      "cell_type": "code",
      "metadata": {
        "colab_type": "code",
        "id": "fwo9LMKGNPWr",
        "colab": {}
      },
      "source": [
        "# Load example MNIST data and pre-process it\n",
        "(x_train, y_train), (x_test, y_test) = tf.keras.datasets.mnist.load_data()\n",
        "x_train = x_train.reshape(60000, 784).astype('float32') / 255\n",
        "x_test = x_test.reshape(10000, 784).astype('float32') / 255"
      ],
      "execution_count": null,
      "outputs": []
    },
    {
      "cell_type": "markdown",
      "metadata": {
        "colab_type": "text",
        "id": "kHVK7kceNqH2"
      },
      "source": [
        "Now, define a simple custom callback to track the start and end of every batch of data. During those calls, it prints the index of the current batch."
      ]
    },
    {
      "cell_type": "code",
      "metadata": {
        "colab_type": "code",
        "id": "-dfuGTMINKRR",
        "colab": {}
      },
      "source": [
        "class MyCustomCallback(tf.keras.callbacks.Callback):\n",
        "\n",
        "  def on_train_batch_begin(self, batch, logs=None):\n",
        "    print('Training: batch {} begins at {}'.format(batch, datetime.datetime.now().time()))\n",
        "\n",
        "  def on_train_batch_end(self, batch, logs=None):\n",
        "    print('Training: batch {} ends at {}'.format(batch, datetime.datetime.now().time()))"
      ],
      "execution_count": null,
      "outputs": []
    },
    {
      "cell_type": "markdown",
      "metadata": {
        "colab_type": "text",
        "id": "Z4FTUUIBN3WG"
      },
      "source": [
        "Providing a callback to model methods such as `tf.keras.Model.fit()` ensures the methods are called at those stages:"
      ]
    },
    {
      "cell_type": "code",
      "metadata": {
        "colab_type": "code",
        "id": "NJV6Tj3sNGzg",
        "colab": {}
      },
      "source": [
        "model = get_model()\n",
        "_ = model.fit(x_train, y_train,\n",
        "          batch_size=64,\n",
        "          epochs=1,\n",
        "          steps_per_epoch=5,\n",
        "          verbose=0,\n",
        "          callbacks=[MyCustomCallback()])"
      ],
      "execution_count": null,
      "outputs": []
    },
    {
      "cell_type": "markdown",
      "metadata": {
        "colab_type": "text",
        "id": "13n44LVkYQsV"
      },
      "source": [
        "## An overview of callback methods\n",
        "\n",
        "\n",
        "### Common methods for training/testing/predicting\n",
        "For training, testing, and predicting, following methods are provided to be overridden.\n",
        "#### `on_(train|test|predict)_begin(self, logs=None)`\n",
        "Called at the beginning of `fit`/`evaluate`/`predict`.\n",
        "#### `on_(train|test|predict)_end(self, logs=None)`\n",
        "Called at the end of `fit`/`evaluate`/`predict`.\n",
        "#### `on_(train|test|predict)_batch_begin(self, batch, logs=None)`\n",
        "Called right before processing a batch during training/testing/predicting. Within this method, `logs` is a dict with `batch` and `size` available keys, representing the current batch number and the size of the batch.\n",
        "#### `on_(train|test|predict)_batch_end(self, batch, logs=None)`\n",
        "Called at the end of training/testing/predicting a batch. Within this method, `logs` is a dict containing the stateful metrics result.\n",
        "\n",
        "### Training specific methods\n",
        "In addition, for training, following are provided.\n",
        "#### `on_epoch_begin(self, epoch, logs=None)`\n",
        "Called at the beginning of an epoch during training.\n",
        "#### `on_epoch_end(self, epoch, logs=None)`\n",
        "Called at the end of an epoch during training.\n"
      ]
    },
    {
      "cell_type": "markdown",
      "metadata": {
        "colab_type": "text",
        "id": "SWf3mXYoceCz"
      },
      "source": [
        "### Usage of `logs` dict\n",
        "The `logs` dict contains the loss value, and all the metrics at the end of a batch or epoch. Example includes the loss and mean absolute error."
      ]
    },
    {
      "cell_type": "code",
      "metadata": {
        "id": "FA_IdseELLKI",
        "colab_type": "code",
        "colab": {}
      },
      "source": [
        "callback = tf.keras.callbacks.LambdaCallback(\n",
        "    on_epoch_end=lambda epoch,logs: \n",
        "    print(\"Epoch: {}, Val/Train loss ratio: {:.2f}\".format(epoch, logs[\"val_loss\"] / logs[\"loss\"]))\n",
        ")\n",
        "\n",
        "model = get_model()\n",
        "_ = model.fit(x_train, y_train,\n",
        "          validation_data=(x_test, y_test),\n",
        "          batch_size=64,\n",
        "          epochs=3,\n",
        "          verbose=0,\n",
        "          callbacks=[callback])"
      ],
      "execution_count": null,
      "outputs": []
    },
    {
      "cell_type": "code",
      "metadata": {
        "colab_type": "code",
        "id": "u4wIdcF9BjJH",
        "colab": {}
      },
      "source": [
        "class DetectOverfittingCallback(tf.keras.callbacks.Callback):\n",
        "  def __init__(self, threshold=0.7):\n",
        "    super(DetectOverfittingCallback, self).__init__()\n",
        "    self.threshold = threshold\n",
        "\n",
        "  def on_epoch_end(self, epoch, logs=None):\n",
        "    ratio = logs[\"val_loss\"] / logs[\"loss\"]\n",
        "    print(\"Epoch: {}, Val/Train loss ratio: {:.2f}\".format(epoch, ratio))\n",
        "\n",
        "    if ratio > self.threshold:\n",
        "      print(\"Stopping training...\")\n",
        "      self.model.stop_training = True\n",
        "\n",
        "model = get_model()\n",
        "_ = model.fit(x_train, y_train,\n",
        "              validation_data=(x_test, y_test),\n",
        "              batch_size=64,\n",
        "              epochs=3,\n",
        "              verbose=0,\n",
        "              callbacks=[DetectOverfittingCallback()])"
      ],
      "execution_count": null,
      "outputs": []
    },
    {
      "cell_type": "markdown",
      "metadata": {
        "colab_type": "text",
        "id": "LbXqvC8FHqeu"
      },
      "source": [
        "Similarly, one can provide callbacks in `evaluate()` calls."
      ]
    },
    {
      "cell_type": "markdown",
      "metadata": {
        "id": "mFeFFmDAH7v9",
        "colab_type": "text"
      },
      "source": [
        "## Custom callback to Visualize predictions"
      ]
    },
    {
      "cell_type": "code",
      "metadata": {
        "id": "PbCPq3ewYaln",
        "colab_type": "code",
        "colab": {}
      },
      "source": [
        "# Load example MNIST data and pre-process it\n",
        "(x_train, y_train), (x_test, y_test) = tf.keras.datasets.mnist.load_data()\n",
        "x_train = x_train.reshape(60000, 784).astype('float32') / 255\n",
        "x_test = x_test.reshape(10000, 784).astype('float32') / 255"
      ],
      "execution_count": null,
      "outputs": []
    },
    {
      "cell_type": "code",
      "metadata": {
        "id": "3e3MrLVxQSnU",
        "colab_type": "code",
        "cellView": "form",
        "colab": {}
      },
      "source": [
        "#@title (RUN ME!) Visualization utilities\n",
        "plt.rc('font', size=20)\n",
        "plt.rc('figure', figsize=(15, 3))\n",
        "\n",
        "def display_digits(inputs, outputs, ground_truth, epoch, n=10):\n",
        "  plt.clf()\n",
        "\n",
        "  plt.yticks([])\n",
        "  plt.grid(None)\n",
        "  inputs = np.reshape(inputs, [n, 28, 28])\n",
        "  inputs = np.swapaxes(inputs, 0, 1)\n",
        "  inputs = np.reshape(inputs, [28, 28*n])\n",
        "  plt.imshow(inputs)\n",
        "  plt.xticks([28*x+14 for x in range(n)], outputs)\n",
        "  for i,t in enumerate(plt.gca().xaxis.get_ticklabels()):\n",
        "    if outputs[i] == ground_truth[i]: \n",
        "      t.set_color('green') \n",
        "    else: \n",
        "      t.set_color('red')\n",
        "  plt.grid(None)"
      ],
      "execution_count": null,
      "outputs": []
    },
    {
      "cell_type": "code",
      "metadata": {
        "id": "lZIMbL_bW33F",
        "colab_type": "code",
        "cellView": "form",
        "colab": {}
      },
      "source": [
        "import imageio\n",
        "GIF_PATH = '/content/animation.gif' #@param {type:\"string\"}"
      ],
      "execution_count": null,
      "outputs": []
    },
    {
      "cell_type": "code",
      "metadata": {
        "id": "3J2u7yZzINig",
        "colab_type": "code",
        "colab": {}
      },
      "source": [
        "class VisCallback(tf.keras.callbacks.Callback):\n",
        "  def __init__(self, inputs, ground_truth, display_freq=10, n_samples=10):\n",
        "    self.inputs = inputs\n",
        "    self.ground_truth = ground_truth\n",
        "    self.images = []\n",
        "    self.display_freq = display_freq\n",
        "    self.n_samples = n_samples\n",
        "\n",
        "  def on_epoch_end(self, epoch, logs=None):\n",
        "    # Randomly sample data\n",
        "    indexes = np.random.choice(len(self.inputs), size=self.n_samples)\n",
        "    X_test, y_test = self.inputs[indexes], self.ground_truth[indexes]\n",
        "    predictions = np.argmax(self.model.predict(X_test), axis=1)\n",
        "\n",
        "    # Plot the digits\n",
        "    display_digits(X_test, predictions, y_test, epoch, n=self.display_freq)\n",
        "\n",
        "    # Save the figure\n",
        "    buf = io.BytesIO()\n",
        "    plt.savefig(buf, format='png')\n",
        "    buf.seek(0)\n",
        "    image = Image.open(buf)\n",
        "    self.images.append(np.array(image))\n",
        "\n",
        "    # Display the digits every 'display_freq' number of epochs\n",
        "    if epoch % self.display_freq == 0:\n",
        "      plt.show()\n",
        "\n",
        "  def on_train_end(self, logs=None):\n",
        "    imageio.mimsave(GIF_PATH, self.images, fps=1)"
      ],
      "execution_count": null,
      "outputs": []
    },
    {
      "cell_type": "code",
      "metadata": {
        "id": "AKLRfx9gOPw2",
        "colab_type": "code",
        "colab": {}
      },
      "source": [
        "def get_model():\n",
        "  model = tf.keras.Sequential()\n",
        "  model.add(tf.keras.layers.Dense(32, activation='linear', input_dim=784))\n",
        "  model.add(tf.keras.layers.Dense(10, activation='softmax'))\n",
        "  model.compile(optimizer=tf.keras.optimizers.RMSprop(lr=1e-4), loss='sparse_categorical_crossentropy', metrics=['accuracy'])\n",
        "  return model"
      ],
      "execution_count": null,
      "outputs": []
    },
    {
      "cell_type": "code",
      "metadata": {
        "id": "MeGfW4t8Yttu",
        "colab_type": "code",
        "colab": {}
      },
      "source": [
        "model = get_model()\n",
        "model.fit(x_train, y_train,\n",
        "          batch_size=64,\n",
        "          epochs=20,\n",
        "          verbose=0,\n",
        "          callbacks=[VisCallback(x_test, y_test)])"
      ],
      "execution_count": null,
      "outputs": []
    },
    {
      "cell_type": "code",
      "metadata": {
        "id": "xV0BpUuDoa76",
        "colab_type": "code",
        "cellView": "form",
        "colab": {}
      },
      "source": [
        "#@title (RUN ME!) Display GIF\n",
        "\n",
        "from IPython.display import Image\n",
        "\n",
        "SCALE = 60\n",
        "# FYI, the format is set to PNG here to bypass checks for acceptable embeddings\n",
        "Image(GIF_PATH, format='png', width=15 * SCALE, height=3 * SCALE) "
      ],
      "execution_count": null,
      "outputs": []
    }
  ]
}
