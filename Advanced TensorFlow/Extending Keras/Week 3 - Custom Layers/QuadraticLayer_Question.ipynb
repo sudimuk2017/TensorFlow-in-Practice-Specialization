{
  "nbformat": 4,
  "nbformat_minor": 0,
  "metadata": {
    "colab": {
      "name": "QuadraticLayer_Question.ipynb",
      "provenance": [],
      "collapsed_sections": [],
      "authorship_tag": "ABX9TyMmW/irad5A8lbT6x5DH4+c",
      "include_colab_link": true
    },
    "kernelspec": {
      "name": "python3",
      "display_name": "Python 3"
    }
  },
  "cells": [
    {
      "cell_type": "markdown",
      "metadata": {
        "id": "view-in-github",
        "colab_type": "text"
      },
      "source": [
        "<a href=\"https://colab.research.google.com/github/lmoroney/dlaicourse/blob/master/Advanced%20TensorFlow/Extending%20Keras/Week%203%20-%20Custom%20Layers/QuadraticLayer_Question.ipynb\" target=\"_parent\"><img src=\"https://colab.research.google.com/assets/colab-badge.svg\" alt=\"Open In Colab\"/></a>"
      ]
    },
    {
      "cell_type": "code",
      "metadata": {
        "id": "DpioxwFXD9Is",
        "colab_type": "code",
        "colab": {}
      },
      "source": [
        "try:\n",
        "  # %tensorflow_version only exists in Colab.\n",
        "  %tensorflow_version 2.x\n",
        "except Exception:\n",
        "  pass"
      ],
      "execution_count": null,
      "outputs": []
    },
    {
      "cell_type": "code",
      "metadata": {
        "id": "Ga20PttZFXm4",
        "colab_type": "code",
        "colab": {}
      },
      "source": [
        "import tensorflow as tf\n",
        "from tensorflow.keras.layers import Layer\n",
        "class SimpleQuadratic(Layer):\n",
        "  # Implement a simple quadratic layer, where it has 3 state variables\n",
        "  # called a, b and c\n",
        "  # And the computation returned is ax^2 + bx + c\n",
        "  # Make sure it can accept an activation function also\n",
        "\n",
        "  def __init__(self, units=32, activation=None):\n",
        "      # YOUR CODE HERE\n",
        "\n",
        "  def build(self, input_shape):  # Create the state of the layer (weights)\n",
        "      # YOUR CODE HERE\n",
        "      # a and b should be initialized with random normal, c with zeros\n",
        "   \n",
        "  def call(self, inputs):  # Defines the computation from inputs to outputs\n",
        "      # YOUR CODE HERE"
      ],
      "execution_count": null,
      "outputs": []
    },
    {
      "cell_type": "code",
      "metadata": {
        "id": "14tl1CluExjJ",
        "colab_type": "code",
        "colab": {}
      },
      "source": [
        "# THIS CODE SHOULD RUN WITHOUT MODIFICATION\n",
        "# AND SHOULD RETURN TRAINING/TESTING ACCURACY at 97%+\n",
        "import tensorflow as tf\n",
        "mnist = tf.keras.datasets.mnist\n",
        "\n",
        "(x_train, y_train),(x_test, y_test) = mnist.load_data()\n",
        "x_train, x_test = x_train / 255.0, x_test / 255.0\n",
        "\n",
        "model = tf.keras.models.Sequential([\n",
        "  tf.keras.layers.Flatten(input_shape=(28, 28)),\n",
        "  SimpleQuadratic(128, activation='relu'),\n",
        "  tf.keras.layers.Dropout(0.2),\n",
        "  tf.keras.layers.Dense(10, activation='softmax')\n",
        "])\n",
        "\n",
        "model.compile(optimizer='adam',\n",
        "              loss='sparse_categorical_crossentropy',\n",
        "              metrics=['accuracy'])\n",
        "\n",
        "model.fit(x_train, y_train, epochs=5)\n",
        "model.evaluate(x_test, y_test)"
      ],
      "execution_count": null,
      "outputs": []
    }
  ]
}